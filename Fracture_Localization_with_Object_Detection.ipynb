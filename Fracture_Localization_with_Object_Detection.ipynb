{
 "cells": [
  {
   "cell_type": "code",
   "id": "initial_id",
   "metadata": {
    "collapsed": true,
    "ExecuteTime": {
     "end_time": "2025-04-22T16:11:45.731101Z",
     "start_time": "2025-04-22T15:09:08.305054Z"
    }
   },
   "source": [
    "from ultralytics import YOLO\n",
    "\n",
    "model = YOLO(\"yolov8n.pt\")          # n = tiny; upgrade to s/m later\n",
    "\n",
    "# stop the current run (Ctrl‑C) and restart:\n",
    "model.train(\n",
    "    data=\"/Users/debabratapanda/PycharmProjects/Fracture_Localization_with_Object_Detection/configs/fracatlas.yaml\",\n",
    "    device=\"mps\",            # keep on the GPU\n",
    "    epochs=50,\n",
    "    batch=32,                
    "    conf=0.15, max_det=150,  # tame NMS\n",
    "    close_mosaic=0,          # keep mosaic on all epochs\n",
    "    amp=False,               # AMP has no effect on MPS\n",
    "    resume=False             # start a fresh run after tweaks\n",
    ")\n"
   ],
   "outputs": [
    {
     "name": "stdout",
     "output_type": "stream",
     "text": [
      "Ultralytics 8.3.113 🚀 Python-3.12.7 torch-2.6.0 MPS (Apple M4 Max)\n",
      "\u001B[34m\u001B[1mengine/trainer: \u001B[0mtask=detect, mode=train, model=yolov8n.pt, data=/Users/debabratapanda/PycharmProjects/Fracture_Localization_with_Object_Detection/configs/fracatlas.yaml, epochs=50, time=None, patience=100, batch=32, imgsz=640, save=True, save_period=-1, cache=False, device=mps, workers=8, project=None, name=train8, exist_ok=False, pretrained=True, optimizer=auto, verbose=True, seed=0, deterministic=True, single_cls=False, rect=False, cos_lr=False, close_mosaic=0, resume=False, amp=False, fraction=1.0, profile=False, freeze=None, multi_scale=False, overlap_mask=True, mask_ratio=4, dropout=0.0, val=True, split=val, save_json=False, conf=0.15, iou=0.7, max_det=150, half=False, dnn=False, plots=True, source=None, vid_stride=1, stream_buffer=False, visualize=False, augment=False, agnostic_nms=False, classes=None, retina_masks=False, embed=None, show=False, save_frames=False, save_txt=False, save_conf=False, save_crop=False, show_labels=True, show_conf=True, show_boxes=True, line_width=None, format=torchscript, keras=False, optimize=False, int8=False, dynamic=False, simplify=True, opset=None, workspace=None, nms=False, lr0=0.01, lrf=0.01, momentum=0.937, weight_decay=0.0005, warmup_epochs=3.0, warmup_momentum=0.8, warmup_bias_lr=0.1, box=7.5, cls=0.5, dfl=1.5, pose=12.0, kobj=1.0, nbs=64, hsv_h=0.015, hsv_s=0.7, hsv_v=0.4, degrees=0.0, translate=0.1, scale=0.5, shear=0.0, perspective=0.0, flipud=0.0, fliplr=0.5, bgr=0.0, mosaic=1.0, mixup=0.0, copy_paste=0.0, copy_paste_mode=flip, auto_augment=randaugment, erasing=0.4, cfg=None, tracker=botsort.yaml, save_dir=runs/detect/train8\n",
      "Overriding model.yaml nc=80 with nc=1\n",
      "\n",
      "                   from  n    params  module                                       arguments                     \n",
      "  0                  -1  1       464  ultralytics.nn.modules.conv.Conv             [3, 16, 3, 2]                 \n",
      "  1                  -1  1      4672  ultralytics.nn.modules.conv.Conv             [16, 32, 3, 2]                \n",
      "  2                  -1  1      7360  ultralytics.nn.modules.block.C2f             [32, 32, 1, True]             \n",
      "  3                  -1  1     18560  ultralytics.nn.modules.conv.Conv             [32, 64, 3, 2]                \n",
      "  4                  -1  2     49664  ultralytics.nn.modules.block.C2f             [64, 64, 2, True]             \n",
      "  5                  -1  1     73984  ultralytics.nn.modules.conv.Conv             [64, 128, 3, 2]               \n",
      "  6                  -1  2    197632  ultralytics.nn.modules.block.C2f             [128, 128, 2, True]           \n",
      "  7                  -1  1    295424  ultralytics.nn.modules.conv.Conv             [128, 256, 3, 2]              \n",
      "  8                  -1  1    460288  ultralytics.nn.modules.block.C2f             [256, 256, 1, True]           \n",
      "  9                  -1  1    164608  ultralytics.nn.modules.block.SPPF            [256, 256, 5]                 \n",
      " 10                  -1  1         0  torch.nn.modules.upsampling.Upsample         [None, 2, 'nearest']          \n",
      " 11             [-1, 6]  1         0  ultralytics.nn.modules.conv.Concat           [1]                           \n",
      " 12                  -1  1    148224  ultralytics.nn.modules.block.C2f             [384, 128, 1]                 \n",
      " 13                  -1  1         0  torch.nn.modules.upsampling.Upsample         [None, 2, 'nearest']          \n",
      " 14             [-1, 4]  1         0  ultralytics.nn.modules.conv.Concat           [1]                           \n",
      " 15                  -1  1     37248  ultralytics.nn.modules.block.C2f             [192, 64, 1]                  \n",
      " 16                  -1  1     36992  ultralytics.nn.modules.conv.Conv             [64, 64, 3, 2]                \n",
      " 17            [-1, 12]  1         0  ultralytics.nn.modules.conv.Concat           [1]                           \n",
      " 18                  -1  1    123648  ultralytics.nn.modules.block.C2f             [192, 128, 1]                 \n",
      " 19                  -1  1    147712  ultralytics.nn.modules.conv.Conv             [128, 128, 3, 2]              \n",
      " 20             [-1, 9]  1         0  ultralytics.nn.modules.conv.Concat           [1]                           \n",
      " 21                  -1  1    493056  ultralytics.nn.modules.block.C2f             [384, 256, 1]                 \n",
      " 22        [15, 18, 21]  1    751507  ultralytics.nn.modules.head.Detect           [1, [64, 128, 256]]           \n",
      "Model summary: 129 layers, 3,011,043 parameters, 3,011,027 gradients, 8.2 GFLOPs\n",
      "\n",
      "Transferred 319/355 items from pretrained weights\n",
      "\u001B[34m\u001B[1mTensorBoard: \u001B[0mStart with 'tensorboard --logdir runs/detect/train8', view at http://localhost:6006/\n",
      "Freezing layer 'model.22.dfl.conv.weight'\n",
      "\u001B[34m\u001B[1mtrain: \u001B[0mFast image access ✅ (ping: 0.0±0.0 ms, read: 408.6±732.1 MB/s, size: 138.9 KB)\n"
     ]
    },
    {
     "name": "stderr",
     "output_type": "stream",
     "text": [
      "\u001B[34m\u001B[1mtrain: \u001B[0mScanning /Users/debabratapanda/PycharmProjects/Fracture_Localization_with_Object_Detection/dataset/labels/train.cache... 3218 images, 2639 backgrounds, 48 corrupt: 100%|██████████| 3266/3266 [00:00\u001B[0m"
     ]
    },
    {
     "name": "stdout",
     "output_type": "stream",
     "text": [
      "\u001B[34m\u001B[1mtrain: \u001B[0mWARNING ⚠️ /Users/debabratapanda/PycharmProjects/Fracture_Localization_with_Object_Detection/dataset/images/train/IMG0004027.jpg: corrupt JPEG restored and saved\n",
      "\u001B[34m\u001B[1mtrain: \u001B[0mWARNING ⚠️ /Users/debabratapanda/PycharmProjects/Fracture_Localization_with_Object_Detection/dataset/images/train/IMG0004028.jpg: ignoring corrupt image/label: image file is truncated (20 bytes not processed)\n",
      "\u001B[34m\u001B[1mtrain: \u001B[0mWARNING ⚠️ /Users/debabratapanda/PycharmProjects/Fracture_Localization_with_Object_Detection/dataset/images/train/IMG0004029.jpg: ignoring corrupt image/label: image file is truncated (22 bytes not processed)\n",
      "\u001B[34m\u001B[1mtrain: \u001B[0mWARNING ⚠️ /Users/debabratapanda/PycharmProjects/Fracture_Localization_with_Object_Detection/dataset/images/train/IMG0004036.jpg: ignoring corrupt image/label: image file is truncated (14 bytes not processed)\n",
      "\u001B[34m\u001B[1mtrain: \u001B[0mWARNING ⚠️ /Users/debabratapanda/PycharmProjects/Fracture_Localization_with_Object_Detection/dataset/images/train/IMG0004062.jpg: corrupt JPEG restored and saved\n",
      "\u001B[34m\u001B[1mtrain: \u001B[0mWARNING ⚠️ /Users/debabratapanda/PycharmProjects/Fracture_Localization_with_Object_Detection/dataset/images/train/IMG0004070.jpg: ignoring corrupt image/label: image file is truncated (41 bytes not processed)\n",
      "\u001B[34m\u001B[1mtrain: \u001B[0mWARNING ⚠️ /Users/debabratapanda/PycharmProjects/Fracture_Localization_with_Object_Detection/dataset/images/train/IMG0004073.jpg: ignoring corrupt image/label: image file is truncated (3 bytes not processed)\n",
      "\u001B[34m\u001B[1mtrain: \u001B[0mWARNING ⚠️ /Users/debabratapanda/PycharmProjects/Fracture_Localization_with_Object_Detection/dataset/images/train/IMG0004075.jpg: corrupt JPEG restored and saved\n",
      "\u001B[34m\u001B[1mtrain: \u001B[0mWARNING ⚠️ /Users/debabratapanda/PycharmProjects/Fracture_Localization_with_Object_Detection/dataset/images/train/IMG0004076.jpg: ignoring corrupt image/label: image file is truncated (0 bytes not processed)\n",
      "\u001B[34m\u001B[1mtrain: \u001B[0mWARNING ⚠️ /Users/debabratapanda/PycharmProjects/Fracture_Localization_with_Object_Detection/dataset/images/train/IMG0004079.jpg: ignoring corrupt image/label: image file is truncated (24 bytes not processed)\n",
      "\u001B[34m\u001B[1mtrain: \u001B[0mWARNING ⚠️ /Users/debabratapanda/PycharmProjects/Fracture_Localization_with_Object_Detection/dataset/images/train/IMG0004084.jpg: ignoring corrupt image/label: image file is truncated (5 bytes not processed)\n",
      "\u001B[34m\u001B[1mtrain: \u001B[0mWARNING ⚠️ /Users/debabratapanda/PycharmProjects/Fracture_Localization_with_Object_Detection/dataset/images/train/IMG0004092.jpg: ignoring corrupt image/label: image file is truncated (3 bytes not processed)\n",
      "\u001B[34m\u001B[1mtrain: \u001B[0mWARNING ⚠️ /Users/debabratapanda/PycharmProjects/Fracture_Localization_with_Object_Detection/dataset/images/train/IMG0004094.jpg: corrupt JPEG restored and saved\n",
      "\u001B[34m\u001B[1mtrain: \u001B[0mWARNING ⚠️ /Users/debabratapanda/PycharmProjects/Fracture_Localization_with_Object_Detection/dataset/images/train/IMG0004100.jpg: ignoring corrupt image/label: image file is truncated (15 bytes not processed)\n",
      "\u001B[34m\u001B[1mtrain: \u001B[0mWARNING ⚠️ /Users/debabratapanda/PycharmProjects/Fracture_Localization_with_Object_Detection/dataset/images/train/IMG0004105.jpg: corrupt JPEG restored and saved\n",
      "\u001B[34m\u001B[1mtrain: \u001B[0mWARNING ⚠️ /Users/debabratapanda/PycharmProjects/Fracture_Localization_with_Object_Detection/dataset/images/train/IMG0004107.jpg: corrupt JPEG restored and saved\n",
      "\u001B[34m\u001B[1mtrain: \u001B[0mWARNING ⚠️ /Users/debabratapanda/PycharmProjects/Fracture_Localization_with_Object_Detection/dataset/images/train/IMG0004109.jpg: ignoring corrupt image/label: image file is truncated (5 bytes not processed)\n",
      "\u001B[34m\u001B[1mtrain: \u001B[0mWARNING ⚠️ /Users/debabratapanda/PycharmProjects/Fracture_Localization_with_Object_Detection/dataset/images/train/IMG0004120.jpg: ignoring corrupt image/label: image file is truncated (8 bytes not processed)\n",
      "\u001B[34m\u001B[1mtrain: \u001B[0mWARNING ⚠️ /Users/debabratapanda/PycharmProjects/Fracture_Localization_with_Object_Detection/dataset/images/train/IMG0004121.jpg: ignoring corrupt image/label: image file is truncated (40 bytes not processed)\n",
      "\u001B[34m\u001B[1mtrain: \u001B[0mWARNING ⚠️ /Users/debabratapanda/PycharmProjects/Fracture_Localization_with_Object_Detection/dataset/images/train/IMG0004122.jpg: ignoring corrupt image/label: image file is truncated (26 bytes not processed)\n",
      "\u001B[34m\u001B[1mtrain: \u001B[0mWARNING ⚠️ /Users/debabratapanda/PycharmProjects/Fracture_Localization_with_Object_Detection/dataset/images/train/IMG0004123.jpg: ignoring corrupt image/label: image file is truncated (17 bytes not processed)\n",
      "\u001B[34m\u001B[1mtrain: \u001B[0mWARNING ⚠️ /Users/debabratapanda/PycharmProjects/Fracture_Localization_with_Object_Detection/dataset/images/train/IMG0004129.jpg: ignoring corrupt image/label: image file is truncated (6 bytes not processed)\n",
      "\u001B[34m\u001B[1mtrain: \u001B[0mWARNING ⚠️ /Users/debabratapanda/PycharmProjects/Fracture_Localization_with_Object_Detection/dataset/images/train/IMG0004130.jpg: ignoring corrupt image/label: image file is truncated (8 bytes not processed)\n",
      "\u001B[34m\u001B[1mtrain: \u001B[0mWARNING ⚠️ /Users/debabratapanda/PycharmProjects/Fracture_Localization_with_Object_Detection/dataset/images/train/IMG0004134.jpg: ignoring corrupt image/label: image file is truncated (1 bytes not processed)\n",
      "\u001B[34m\u001B[1mtrain: \u001B[0mWARNING ⚠️ /Users/debabratapanda/PycharmProjects/Fracture_Localization_with_Object_Detection/dataset/images/train/IMG0004142.jpg: ignoring corrupt image/label: image file is truncated (32 bytes not processed)\n",
      "\u001B[34m\u001B[1mtrain: \u001B[0mWARNING ⚠️ /Users/debabratapanda/PycharmProjects/Fracture_Localization_with_Object_Detection/dataset/images/train/IMG0004143.jpg: ignoring corrupt image/label: image file is truncated (10 bytes not processed)\n",
      "\u001B[34m\u001B[1mtrain: \u001B[0mWARNING ⚠️ /Users/debabratapanda/PycharmProjects/Fracture_Localization_with_Object_Detection/dataset/images/train/IMG0004145.jpg: ignoring corrupt image/label: image file is truncated (10 bytes not processed)\n",
      "\u001B[34m\u001B[1mtrain: \u001B[0mWARNING ⚠️ /Users/debabratapanda/PycharmProjects/Fracture_Localization_with_Object_Detection/dataset/images/train/IMG0004146.jpg: corrupt JPEG restored and saved\n",
      "\u001B[34m\u001B[1mtrain: \u001B[0mWARNING ⚠️ /Users/debabratapanda/PycharmProjects/Fracture_Localization_with_Object_Detection/dataset/images/train/IMG0004148.jpg: ignoring corrupt image/label: image file is truncated (14 bytes not processed)\n",
      "\u001B[34m\u001B[1mtrain: \u001B[0mWARNING ⚠️ /Users/debabratapanda/PycharmProjects/Fracture_Localization_with_Object_Detection/dataset/images/train/IMG0004149.jpg: ignoring corrupt image/label: image file is truncated (33 bytes not processed)\n",
      "\u001B[34m\u001B[1mtrain: \u001B[0mWARNING ⚠️ /Users/debabratapanda/PycharmProjects/Fracture_Localization_with_Object_Detection/dataset/images/train/IMG0004154.jpg: ignoring corrupt image/label: image file is truncated (22 bytes not processed)\n",
      "\u001B[34m\u001B[1mtrain: \u001B[0mWARNING ⚠️ /Users/debabratapanda/PycharmProjects/Fracture_Localization_with_Object_Detection/dataset/images/train/IMG0004155.jpg: ignoring corrupt image/label: image file is truncated (18 bytes not processed)\n",
      "\u001B[34m\u001B[1mtrain: \u001B[0mWARNING ⚠️ /Users/debabratapanda/PycharmProjects/Fracture_Localization_with_Object_Detection/dataset/images/train/IMG0004159.jpg: ignoring corrupt image/label: image file is truncated (8 bytes not processed)\n",
      "\u001B[34m\u001B[1mtrain: \u001B[0mWARNING ⚠️ /Users/debabratapanda/PycharmProjects/Fracture_Localization_with_Object_Detection/dataset/images/train/IMG0004167.jpg: corrupt JPEG restored and saved\n",
      "\u001B[34m\u001B[1mtrain: \u001B[0mWARNING ⚠️ /Users/debabratapanda/PycharmProjects/Fracture_Localization_with_Object_Detection/dataset/images/train/IMG0004169.jpg: ignoring corrupt image/label: image file is truncated (14 bytes not processed)\n",
      "\u001B[34m\u001B[1mtrain: \u001B[0mWARNING ⚠️ /Users/debabratapanda/PycharmProjects/Fracture_Localization_with_Object_Detection/dataset/images/train/IMG0004170.jpg: ignoring corrupt image/label: image file is truncated (11 bytes not processed)\n",
      "\u001B[34m\u001B[1mtrain: \u001B[0mWARNING ⚠️ /Users/debabratapanda/PycharmProjects/Fracture_Localization_with_Object_Detection/dataset/images/train/IMG0004172.jpg: corrupt JPEG restored and saved\n",
      "\u001B[34m\u001B[1mtrain: \u001B[0mWARNING ⚠️ /Users/debabratapanda/PycharmProjects/Fracture_Localization_with_Object_Detection/dataset/images/train/IMG0004173.jpg: ignoring corrupt image/label: image file is truncated (0 bytes not processed)\n",
      "\u001B[34m\u001B[1mtrain: \u001B[0mWARNING ⚠️ /Users/debabratapanda/PycharmProjects/Fracture_Localization_with_Object_Detection/dataset/images/train/IMG0004174.jpg: ignoring corrupt image/label: image file is truncated (4 bytes not processed)\n",
      "\u001B[34m\u001B[1mtrain: \u001B[0mWARNING ⚠️ /Users/debabratapanda/PycharmProjects/Fracture_Localization_with_Object_Detection/dataset/images/train/IMG0004177.jpg: ignoring corrupt image/label: image file is truncated (34 bytes not processed)\n",
      "\u001B[34m\u001B[1mtrain: \u001B[0mWARNING ⚠️ /Users/debabratapanda/PycharmProjects/Fracture_Localization_with_Object_Detection/dataset/images/train/IMG0004179.jpg: corrupt JPEG restored and saved\n",
      "\u001B[34m\u001B[1mtrain: \u001B[0mWARNING ⚠️ /Users/debabratapanda/PycharmProjects/Fracture_Localization_with_Object_Detection/dataset/images/train/IMG0004182.jpg: corrupt JPEG restored and saved\n",
      "\u001B[34m\u001B[1mtrain: \u001B[0mWARNING ⚠️ /Users/debabratapanda/PycharmProjects/Fracture_Localization_with_Object_Detection/dataset/images/train/IMG0004195.jpg: corrupt JPEG restored and saved\n",
      "\u001B[34m\u001B[1mtrain: \u001B[0mWARNING ⚠️ /Users/debabratapanda/PycharmProjects/Fracture_Localization_with_Object_Detection/dataset/images/train/IMG0004214.jpg: corrupt JPEG restored and saved\n",
      "\u001B[34m\u001B[1mtrain: \u001B[0mWARNING ⚠️ /Users/debabratapanda/PycharmProjects/Fracture_Localization_with_Object_Detection/dataset/images/train/IMG0004223.jpg: corrupt JPEG restored and saved\n",
      "\u001B[34m\u001B[1mtrain: \u001B[0mWARNING ⚠️ /Users/debabratapanda/PycharmProjects/Fracture_Localization_with_Object_Detection/dataset/images/train/IMG0004225.jpg: corrupt JPEG restored and saved\n",
      "\u001B[34m\u001B[1mtrain: \u001B[0mWARNING ⚠️ /Users/debabratapanda/PycharmProjects/Fracture_Localization_with_Object_Detection/dataset/images/train/IMG0004226.jpg: ignoring corrupt image/label: image file is truncated (23 bytes not processed)\n",
      "\u001B[34m\u001B[1mtrain: \u001B[0mWARNING ⚠️ /Users/debabratapanda/PycharmProjects/Fracture_Localization_with_Object_Detection/dataset/images/train/IMG0004227.jpg: ignoring corrupt image/label: image file is truncated (30 bytes not processed)\n",
      "\u001B[34m\u001B[1mtrain: \u001B[0mWARNING ⚠️ /Users/debabratapanda/PycharmProjects/Fracture_Localization_with_Object_Detection/dataset/images/train/IMG0004228.jpg: ignoring corrupt image/label: image file is truncated (17 bytes not processed)\n",
      "\u001B[34m\u001B[1mtrain: \u001B[0mWARNING ⚠️ /Users/debabratapanda/PycharmProjects/Fracture_Localization_with_Object_Detection/dataset/images/train/IMG0004241.jpg: corrupt JPEG restored and saved\n",
      "\u001B[34m\u001B[1mtrain: \u001B[0mWARNING ⚠️ /Users/debabratapanda/PycharmProjects/Fracture_Localization_with_Object_Detection/dataset/images/train/IMG0004244.jpg: corrupt JPEG restored and saved\n",
      "\u001B[34m\u001B[1mtrain: \u001B[0mWARNING ⚠️ /Users/debabratapanda/PycharmProjects/Fracture_Localization_with_Object_Detection/dataset/images/train/IMG0004251.jpg: ignoring corrupt image/label: image file is truncated (19 bytes not processed)\n",
      "\u001B[34m\u001B[1mtrain: \u001B[0mWARNING ⚠️ /Users/debabratapanda/PycharmProjects/Fracture_Localization_with_Object_Detection/dataset/images/train/IMG0004252.jpg: ignoring corrupt image/label: image file is truncated (67 bytes not processed)\n",
      "\u001B[34m\u001B[1mtrain: \u001B[0mWARNING ⚠️ /Users/debabratapanda/PycharmProjects/Fracture_Localization_with_Object_Detection/dataset/images/train/IMG0004256.jpg: ignoring corrupt image/label: image file is truncated (66 bytes not processed)\n",
      "\u001B[34m\u001B[1mtrain: \u001B[0mWARNING ⚠️ /Users/debabratapanda/PycharmProjects/Fracture_Localization_with_Object_Detection/dataset/images/train/IMG0004258.jpg: ignoring corrupt image/label: image file is truncated (0 bytes not processed)\n",
      "\u001B[34m\u001B[1mtrain: \u001B[0mWARNING ⚠️ /Users/debabratapanda/PycharmProjects/Fracture_Localization_with_Object_Detection/dataset/images/train/IMG0004263.jpg: ignoring corrupt image/label: image file is truncated (24 bytes not processed)\n",
      "\u001B[34m\u001B[1mtrain: \u001B[0mWARNING ⚠️ /Users/debabratapanda/PycharmProjects/Fracture_Localization_with_Object_Detection/dataset/images/train/IMG0004270.jpg: corrupt JPEG restored and saved\n",
      "\u001B[34m\u001B[1mtrain: \u001B[0mWARNING ⚠️ /Users/debabratapanda/PycharmProjects/Fracture_Localization_with_Object_Detection/dataset/images/train/IMG0004274.jpg: corrupt JPEG restored and saved\n",
      "\u001B[34m\u001B[1mtrain: \u001B[0mWARNING ⚠️ /Users/debabratapanda/PycharmProjects/Fracture_Localization_with_Object_Detection/dataset/images/train/IMG0004275.jpg: ignoring corrupt image/label: image file is truncated (24 bytes not processed)\n",
      "\u001B[34m\u001B[1mtrain: \u001B[0mWARNING ⚠️ /Users/debabratapanda/PycharmProjects/Fracture_Localization_with_Object_Detection/dataset/images/train/IMG0004278.jpg: ignoring corrupt image/label: image file is truncated (29 bytes not processed)\n",
      "\u001B[34m\u001B[1mtrain: \u001B[0mWARNING ⚠️ /Users/debabratapanda/PycharmProjects/Fracture_Localization_with_Object_Detection/dataset/images/train/IMG0004279.jpg: ignoring corrupt image/label: image file is truncated (5 bytes not processed)\n",
      "\u001B[34m\u001B[1mtrain: \u001B[0mWARNING ⚠️ /Users/debabratapanda/PycharmProjects/Fracture_Localization_with_Object_Detection/dataset/images/train/IMG0004280.jpg: corrupt JPEG restored and saved\n",
      "\u001B[34m\u001B[1mtrain: \u001B[0mWARNING ⚠️ /Users/debabratapanda/PycharmProjects/Fracture_Localization_with_Object_Detection/dataset/images/train/IMG0004286.jpg: ignoring corrupt image/label: image file is truncated (46 bytes not processed)\n",
      "\u001B[34m\u001B[1mtrain: \u001B[0mWARNING ⚠️ /Users/debabratapanda/PycharmProjects/Fracture_Localization_with_Object_Detection/dataset/images/train/IMG0004287.jpg: corrupt JPEG restored and saved\n",
      "\u001B[34m\u001B[1mtrain: \u001B[0mWARNING ⚠️ /Users/debabratapanda/PycharmProjects/Fracture_Localization_with_Object_Detection/dataset/images/train/IMG0004290.jpg: ignoring corrupt image/label: image file is truncated (54 bytes not processed)\n",
      "\u001B[34m\u001B[1mtrain: \u001B[0mWARNING ⚠️ /Users/debabratapanda/PycharmProjects/Fracture_Localization_with_Object_Detection/dataset/images/train/IMG0004291.jpg: ignoring corrupt image/label: image file is truncated (13 bytes not processed)\n",
      "\u001B[34m\u001B[1mtrain: \u001B[0mWARNING ⚠️ /Users/debabratapanda/PycharmProjects/Fracture_Localization_with_Object_Detection/dataset/images/train/IMG0004297.jpg: ignoring corrupt image/label: image file is truncated (5 bytes not processed)\n",
      "\u001B[34m\u001B[1mtrain: \u001B[0mWARNING ⚠️ /Users/debabratapanda/PycharmProjects/Fracture_Localization_with_Object_Detection/dataset/images/train/IMG0004298.jpg: ignoring corrupt image/label: image file is truncated (19 bytes not processed)\n",
      "\u001B[34m\u001B[1mtrain: \u001B[0mWARNING ⚠️ /Users/debabratapanda/PycharmProjects/Fracture_Localization_with_Object_Detection/dataset/images/train/IMG0004302.jpg: corrupt JPEG restored and saved\n",
      "\u001B[34m\u001B[1mtrain: \u001B[0mWARNING ⚠️ /Users/debabratapanda/PycharmProjects/Fracture_Localization_with_Object_Detection/dataset/images/train/IMG0004307.jpg: corrupt JPEG restored and saved\n",
      "\u001B[34m\u001B[1mtrain: \u001B[0mWARNING ⚠️ /Users/debabratapanda/PycharmProjects/Fracture_Localization_with_Object_Detection/dataset/images/train/IMG0004308.jpg: ignoring corrupt image/label: image file is truncated (40 bytes not processed)\n",
      "\u001B[34m\u001B[1mtrain: \u001B[0mWARNING ⚠️ /Users/debabratapanda/PycharmProjects/Fracture_Localization_with_Object_Detection/dataset/images/train/IMG0004310.jpg: corrupt JPEG restored and saved\n",
      "\u001B[34m\u001B[1mtrain: \u001B[0mWARNING ⚠️ /Users/debabratapanda/PycharmProjects/Fracture_Localization_with_Object_Detection/dataset/images/train/IMG0004346.jpg: corrupt JPEG restored and saved\n"
     ]
    },
    {
     "name": "stderr",
     "output_type": "stream",
     "text": [
      "\n"
     ]
    },
    {
     "name": "stdout",
     "output_type": "stream",
     "text": [
      "\u001B[34m\u001B[1malbumentations: \u001B[0mBlur(p=0.01, blur_limit=(3, 7)), MedianBlur(p=0.01, blur_limit=(3, 7)), ToGray(p=0.01, num_output_channels=3, method='weighted_average'), CLAHE(p=0.01, clip_limit=(1.0, 4.0), tile_grid_size=(8, 8))\n",
      "\u001B[34m\u001B[1mval: \u001B[0mFast image access ✅ (ping: 0.0±0.0 ms, read: 102.4±17.5 MB/s, size: 15.0 KB)\n"
     ]
    },
    {
     "name": "stderr",
     "output_type": "stream",
     "text": [
      "\u001B[34m\u001B[1mval: \u001B[0mScanning /Users/debabratapanda/PycharmProjects/Fracture_Localization_with_Object_Detection/dataset/labels/val.cache... 403 images, 331 backgrounds, 5 corrupt: 100%|██████████| 408/408 [00:00<?, ?it/s\u001B[0m"
     ]
    },
    {
     "name": "stdout",
     "output_type": "stream",
     "text": [
      "\u001B[34m\u001B[1mval: \u001B[0mWARNING ⚠️ /Users/debabratapanda/PycharmProjects/Fracture_Localization_with_Object_Detection/dataset/images/val/IMG0004189.jpg: ignoring corrupt image/label: image file is truncated (16 bytes not processed)\n",
      "\u001B[34m\u001B[1mval: \u001B[0mWARNING ⚠️ /Users/debabratapanda/PycharmProjects/Fracture_Localization_with_Object_Detection/dataset/images/val/IMG0004243.jpg: corrupt JPEG restored and saved\n",
      "\u001B[34m\u001B[1mval: \u001B[0mWARNING ⚠️ /Users/debabratapanda/PycharmProjects/Fracture_Localization_with_Object_Detection/dataset/images/val/IMG0004259.jpg: ignoring corrupt image/label: image file is truncated (7 bytes not processed)\n",
      "\u001B[34m\u001B[1mval: \u001B[0mWARNING ⚠️ /Users/debabratapanda/PycharmProjects/Fracture_Localization_with_Object_Detection/dataset/images/val/IMG0004264.jpg: corrupt JPEG restored and saved\n",
      "\u001B[34m\u001B[1mval: \u001B[0mWARNING ⚠️ /Users/debabratapanda/PycharmProjects/Fracture_Localization_with_Object_Detection/dataset/images/val/IMG0004273.jpg: ignoring corrupt image/label: image file is truncated (8 bytes not processed)\n",
      "\u001B[34m\u001B[1mval: \u001B[0mWARNING ⚠️ /Users/debabratapanda/PycharmProjects/Fracture_Localization_with_Object_Detection/dataset/images/val/IMG0004288.jpg: ignoring corrupt image/label: image file is truncated (1 bytes not processed)\n",
      "\u001B[34m\u001B[1mval: \u001B[0mWARNING ⚠️ /Users/debabratapanda/PycharmProjects/Fracture_Localization_with_Object_Detection/dataset/images/val/IMG0004347.jpg: ignoring corrupt image/label: image file is truncated (40 bytes not processed)\n"
     ]
    },
    {
     "name": "stderr",
     "output_type": "stream",
     "text": [
      "\n"
     ]
    },
    {
     "name": "stdout",
     "output_type": "stream",
     "text": [
      "Plotting labels to runs/detect/train8/labels.jpg... \n",
      "\u001B[34m\u001B[1moptimizer:\u001B[0m 'optimizer=auto' found, ignoring 'lr0=0.01' and 'momentum=0.937' and determining best 'optimizer', 'lr0' and 'momentum' automatically... \n",
      "\u001B[34m\u001B[1moptimizer:\u001B[0m AdamW(lr=0.002, momentum=0.9) with parameter groups 57 weight(decay=0.0), 64 weight(decay=0.0005), 63 bias(decay=0.0)\n",
      "\u001B[34m\u001B[1mTensorBoard: \u001B[0mmodel graph visualization added ✅\n",
      "Image sizes 640 train, 640 val\n",
      "Using 0 dataloader workers\n",
      "Logging results to \u001B[1mruns/detect/train8\u001B[0m\n",
      "Starting training for 50 epochs...\n",
      "\n",
      "      Epoch    GPU_mem   box_loss   cls_loss   dfl_loss  Instances       Size\n"
     ]
    },
    {
     "name": "stderr",
     "output_type": "stream",
     "text": [
      "       1/50      7.63G      2.851      12.86      1.862          5        640: 100%|██████████| 101/101 [01:29<00:00,  1.13it/s]\n",
      "                 Class     Images  Instances      Box(P          R      mAP50  mAP50-95): 100%|██████████| 7/7 [00:07<00:00,  1.13s/it]"
     ]
    },
    {
     "name": "stdout",
     "output_type": "stream",
     "text": [
      "                   all        403         92          0          0          0          0\n"
     ]
    },
    {
     "name": "stderr",
     "output_type": "stream",
     "text": [
      "\n"
     ]
    },
    {
     "name": "stdout",
     "output_type": "stream",
     "text": [
      "\n",
      "      Epoch    GPU_mem   box_loss   cls_loss   dfl_loss  Instances       Size\n"
     ]
    },
    {
     "name": "stderr",
     "output_type": "stream",
     "text": [
      "       2/50      7.49G      3.035      7.076      1.956          5        640: 100%|██████████| 101/101 [01:28<00:00,  1.14it/s]\n",
      "                 Class     Images  Instances      Box(P          R      mAP50  mAP50-95): 100%|██████████| 7/7 [00:21<00:00,  3.03s/it]"
     ]
    },
    {
     "name": "stdout",
     "output_type": "stream",
     "text": [
      "                   all        403         92     0.0545       0.12     0.0405     0.0123\n"
     ]
    },
    {
     "name": "stderr",
     "output_type": "stream",
     "text": [
      "\n"
     ]
    },
    {
     "name": "stdout",
     "output_type": "stream",
     "text": [
      "\n",
      "      Epoch    GPU_mem   box_loss   cls_loss   dfl_loss  Instances       Size\n"
     ]
    },
    {
     "name": "stderr",
     "output_type": "stream",
     "text": [
      "       3/50      7.48G      2.968      4.383      1.939          5        640: 100%|██████████| 101/101 [01:21<00:00,  1.24it/s]\n",
      "                 Class     Images  Instances      Box(P          R      mAP50  mAP50-95): 100%|██████████| 7/7 [00:03<00:00,  1.80it/s]"
     ]
    },
    {
     "name": "stdout",
     "output_type": "stream",
     "text": [
      "                   all        403         92          0          0          0          0\n"
     ]
    },
    {
     "name": "stderr",
     "output_type": "stream",
     "text": [
      "\n"
     ]
    },
    {
     "name": "stdout",
     "output_type": "stream",
     "text": [
      "\n",
      "      Epoch    GPU_mem   box_loss   cls_loss   dfl_loss  Instances       Size\n"
     ]
    },
    {
     "name": "stderr",
     "output_type": "stream",
     "text": [
      "       4/50       7.5G      3.013       3.99      1.992         10        640: 100%|██████████| 101/101 [01:19<00:00,  1.27it/s]\n",
      "                 Class     Images  Instances      Box(P          R      mAP50  mAP50-95): 100%|██████████| 7/7 [00:03<00:00,  2.12it/s]"
     ]
    },
    {
     "name": "stdout",
     "output_type": "stream",
     "text": [
      "                   all        403         92          0          0          0          0\n"
     ]
    },
    {
     "name": "stderr",
     "output_type": "stream",
     "text": [
      "\n"
     ]
    },
    {
     "name": "stdout",
     "output_type": "stream",
     "text": [
      "\n",
      "      Epoch    GPU_mem   box_loss   cls_loss   dfl_loss  Instances       Size\n"
     ]
    },
    {
     "name": "stderr",
     "output_type": "stream",
     "text": [
      "       5/50      7.49G      2.914      3.658      1.936          4        640: 100%|██████████| 101/101 [01:15<00:00,  1.34it/s]\n",
      "                 Class     Images  Instances      Box(P          R      mAP50  mAP50-95): 100%|██████████| 7/7 [00:03<00:00,  1.94it/s]"
     ]
    },
    {
     "name": "stdout",
     "output_type": "stream",
     "text": [
      "                   all        403         92          0          0          0          0\n"
     ]
    },
    {
     "name": "stderr",
     "output_type": "stream",
     "text": [
      "\n"
     ]
    },
    {
     "name": "stdout",
     "output_type": "stream",
     "text": [
      "\n",
      "      Epoch    GPU_mem   box_loss   cls_loss   dfl_loss  Instances       Size\n"
     ]
    },
    {
     "name": "stderr",
     "output_type": "stream",
     "text": [
      "       6/50      7.48G      2.837      3.616      1.903          7        640: 100%|██████████| 101/101 [01:16<00:00,  1.33it/s]\n",
      "                 Class     Images  Instances      Box(P          R      mAP50  mAP50-95): 100%|██████████| 7/7 [00:03<00:00,  2.04it/s]"
     ]
    },
    {
     "name": "stdout",
     "output_type": "stream",
     "text": [
      "                   all        403         92          1     0.0326      0.516       0.12\n"
     ]
    },
    {
     "name": "stderr",
     "output_type": "stream",
     "text": [
      "\n"
     ]
    },
    {
     "name": "stdout",
     "output_type": "stream",
     "text": [
      "\n",
      "      Epoch    GPU_mem   box_loss   cls_loss   dfl_loss  Instances       Size\n"
     ]
    },
    {
     "name": "stderr",
     "output_type": "stream",
     "text": [
      "       7/50      7.48G      2.805       3.43       1.87          3        640: 100%|██████████| 101/101 [01:11<00:00,  1.41it/s]\n",
      "                 Class     Images  Instances      Box(P          R      mAP50  mAP50-95): 100%|██████████| 7/7 [00:02<00:00,  2.40it/s]"
     ]
    },
    {
     "name": "stdout",
     "output_type": "stream",
     "text": [
      "                   all        403         92          1     0.0109      0.505      0.152\n"
     ]
    },
    {
     "name": "stderr",
     "output_type": "stream",
     "text": [
      "\n"
     ]
    },
    {
     "name": "stdout",
     "output_type": "stream",
     "text": [
      "\n",
      "      Epoch    GPU_mem   box_loss   cls_loss   dfl_loss  Instances       Size\n"
     ]
    },
    {
     "name": "stderr",
     "output_type": "stream",
     "text": [
      "       8/50      7.48G      2.715      3.277      1.823          5        640: 100%|██████████| 101/101 [01:09<00:00,  1.44it/s]\n",
      "                 Class     Images  Instances      Box(P          R      mAP50  mAP50-95): 100%|██████████| 7/7 [00:03<00:00,  2.10it/s]"
     ]
    },
    {
     "name": "stdout",
     "output_type": "stream",
     "text": [
      "                   all        403         92      0.361      0.141      0.244     0.0943\n"
     ]
    },
    {
     "name": "stderr",
     "output_type": "stream",
     "text": [
      "\n"
     ]
    },
    {
     "name": "stdout",
     "output_type": "stream",
     "text": [
      "\n",
      "      Epoch    GPU_mem   box_loss   cls_loss   dfl_loss  Instances       Size\n"
     ]
    },
    {
     "name": "stderr",
     "output_type": "stream",
     "text": [
      "       9/50      7.48G      2.721      3.257      1.764          4        640: 100%|██████████| 101/101 [01:11<00:00,  1.41it/s]\n",
      "                 Class     Images  Instances      Box(P          R      mAP50  mAP50-95): 100%|██████████| 7/7 [00:03<00:00,  2.20it/s]"
     ]
    },
    {
     "name": "stdout",
     "output_type": "stream",
     "text": [
      "                   all        403         92       0.62     0.0326       0.19     0.0698\n"
     ]
    },
    {
     "name": "stderr",
     "output_type": "stream",
     "text": [
      "\n"
     ]
    },
    {
     "name": "stdout",
     "output_type": "stream",
     "text": [
      "\n",
      "      Epoch    GPU_mem   box_loss   cls_loss   dfl_loss  Instances       Size\n"
     ]
    },
    {
     "name": "stderr",
     "output_type": "stream",
     "text": [
      "      10/50      7.48G      2.717      3.238      1.785         10        640: 100%|██████████| 101/101 [01:10<00:00,  1.44it/s]\n",
      "                 Class     Images  Instances      Box(P          R      mAP50  mAP50-95): 100%|██████████| 7/7 [00:03<00:00,  2.14it/s]"
     ]
    },
    {
     "name": "stdout",
     "output_type": "stream",
     "text": [
      "                   all        403         92      0.831     0.0109       0.26      0.052\n"
     ]
    },
    {
     "name": "stderr",
     "output_type": "stream",
     "text": [
      "\n"
     ]
    },
    {
     "name": "stdout",
     "output_type": "stream",
     "text": [
      "\n",
      "      Epoch    GPU_mem   box_loss   cls_loss   dfl_loss  Instances       Size\n"
     ]
    },
    {
     "name": "stderr",
     "output_type": "stream",
     "text": [
      "      11/50      7.47G      2.634      3.041      1.789          4        640: 100%|██████████| 101/101 [01:10<00:00,  1.44it/s]\n",
      "                 Class     Images  Instances      Box(P          R      mAP50  mAP50-95): 100%|██████████| 7/7 [00:03<00:00,  2.23it/s]"
     ]
    },
    {
     "name": "stdout",
     "output_type": "stream",
     "text": [
      "                   all        403         92      0.429     0.0326      0.236     0.0782\n"
     ]
    },
    {
     "name": "stderr",
     "output_type": "stream",
     "text": [
      "\n"
     ]
    },
    {
     "name": "stdout",
     "output_type": "stream",
     "text": [
      "\n",
      "      Epoch    GPU_mem   box_loss   cls_loss   dfl_loss  Instances       Size\n"
     ]
    },
    {
     "name": "stderr",
     "output_type": "stream",
     "text": [
      "      12/50      7.47G      2.631      3.061      1.784          9        640: 100%|██████████| 101/101 [01:12<00:00,  1.39it/s]\n",
      "                 Class     Images  Instances      Box(P          R      mAP50  mAP50-95): 100%|██████████| 7/7 [00:03<00:00,  2.21it/s]"
     ]
    },
    {
     "name": "stdout",
     "output_type": "stream",
     "text": [
      "                   all        403         92      0.361      0.141      0.257      0.102\n"
     ]
    },
    {
     "name": "stderr",
     "output_type": "stream",
     "text": [
      "\n"
     ]
    },
    {
     "name": "stdout",
     "output_type": "stream",
     "text": [
      "\n",
      "      Epoch    GPU_mem   box_loss   cls_loss   dfl_loss  Instances       Size\n"
     ]
    },
    {
     "name": "stderr",
     "output_type": "stream",
     "text": [
      "      13/50      7.48G      2.541      3.093      1.713          6        640: 100%|██████████| 101/101 [01:09<00:00,  1.46it/s]\n",
      "                 Class     Images  Instances      Box(P          R      mAP50  mAP50-95): 100%|██████████| 7/7 [00:03<00:00,  2.11it/s]"
     ]
    },
    {
     "name": "stdout",
     "output_type": "stream",
     "text": [
      "                   all        403         92      0.258      0.272      0.248      0.103\n"
     ]
    },
    {
     "name": "stderr",
     "output_type": "stream",
     "text": [
      "\n"
     ]
    },
    {
     "name": "stdout",
     "output_type": "stream",
     "text": [
      "\n",
      "      Epoch    GPU_mem   box_loss   cls_loss   dfl_loss  Instances       Size\n"
     ]
    },
    {
     "name": "stderr",
     "output_type": "stream",
     "text": [
      "      14/50      7.48G      2.492       2.95      1.694          6        640: 100%|██████████| 101/101 [01:12<00:00,  1.39it/s]\n",
      "                 Class     Images  Instances      Box(P          R      mAP50  mAP50-95): 100%|██████████| 7/7 [00:03<00:00,  1.95it/s]"
     ]
    },
    {
     "name": "stdout",
     "output_type": "stream",
     "text": [
      "                   all        403         92      0.366      0.217       0.24     0.0946\n"
     ]
    },
    {
     "name": "stderr",
     "output_type": "stream",
     "text": [
      "\n"
     ]
    },
    {
     "name": "stdout",
     "output_type": "stream",
     "text": [
      "\n",
      "      Epoch    GPU_mem   box_loss   cls_loss   dfl_loss  Instances       Size\n"
     ]
    },
    {
     "name": "stderr",
     "output_type": "stream",
     "text": [
      "      15/50      7.47G      2.472      2.791      1.691          3        640: 100%|██████████| 101/101 [01:09<00:00,  1.45it/s]\n",
      "                 Class     Images  Instances      Box(P          R      mAP50  mAP50-95): 100%|██████████| 7/7 [00:02<00:00,  2.35it/s]"
     ]
    },
    {
     "name": "stdout",
     "output_type": "stream",
     "text": [
      "                   all        403         92      0.636     0.0761      0.364      0.131\n"
     ]
    },
    {
     "name": "stderr",
     "output_type": "stream",
     "text": [
      "\n"
     ]
    },
    {
     "name": "stdout",
     "output_type": "stream",
     "text": [
      "\n",
      "      Epoch    GPU_mem   box_loss   cls_loss   dfl_loss  Instances       Size\n"
     ]
    },
    {
     "name": "stderr",
     "output_type": "stream",
     "text": [
      "      16/50      7.48G      2.457       2.75      1.693         11        640: 100%|██████████| 101/101 [01:09<00:00,  1.44it/s]\n",
      "                 Class     Images  Instances      Box(P          R      mAP50  mAP50-95): 100%|██████████| 7/7 [00:03<00:00,  1.97it/s]"
     ]
    },
    {
     "name": "stdout",
     "output_type": "stream",
     "text": [
      "                   all        403         92      0.382      0.272      0.254     0.0982\n"
     ]
    },
    {
     "name": "stderr",
     "output_type": "stream",
     "text": [
      "\n"
     ]
    },
    {
     "name": "stdout",
     "output_type": "stream",
     "text": [
      "\n",
      "      Epoch    GPU_mem   box_loss   cls_loss   dfl_loss  Instances       Size\n"
     ]
    },
    {
     "name": "stderr",
     "output_type": "stream",
     "text": [
      "      17/50      7.48G      2.424      2.741      1.651         10        640: 100%|██████████| 101/101 [01:09<00:00,  1.45it/s]\n",
      "                 Class     Images  Instances      Box(P          R      mAP50  mAP50-95): 100%|██████████| 7/7 [00:03<00:00,  2.05it/s]"
     ]
    },
    {
     "name": "stdout",
     "output_type": "stream",
     "text": [
      "                   all        403         92      0.589      0.272      0.315      0.122\n"
     ]
    },
    {
     "name": "stderr",
     "output_type": "stream",
     "text": [
      "\n"
     ]
    },
    {
     "name": "stdout",
     "output_type": "stream",
     "text": [
      "\n",
      "      Epoch    GPU_mem   box_loss   cls_loss   dfl_loss  Instances       Size\n"
     ]
    },
    {
     "name": "stderr",
     "output_type": "stream",
     "text": [
      "      18/50      7.48G       2.39       2.63      1.658         12        640: 100%|██████████| 101/101 [01:13<00:00,  1.38it/s]\n",
      "                 Class     Images  Instances      Box(P          R      mAP50  mAP50-95): 100%|██████████| 7/7 [00:03<00:00,  1.86it/s]"
     ]
    },
    {
     "name": "stdout",
     "output_type": "stream",
     "text": [
      "                   all        403         92      0.349      0.257      0.256      0.109\n"
     ]
    },
    {
     "name": "stderr",
     "output_type": "stream",
     "text": [
      "\n"
     ]
    },
    {
     "name": "stdout",
     "output_type": "stream",
     "text": [
      "\n",
      "      Epoch    GPU_mem   box_loss   cls_loss   dfl_loss  Instances       Size\n"
     ]
    },
    {
     "name": "stderr",
     "output_type": "stream",
     "text": [
      "      19/50      7.47G       2.39      2.693      1.644          6        640: 100%|██████████| 101/101 [01:12<00:00,  1.40it/s]\n",
      "                 Class     Images  Instances      Box(P          R      mAP50  mAP50-95): 100%|██████████| 7/7 [00:03<00:00,  1.93it/s]"
     ]
    },
    {
     "name": "stdout",
     "output_type": "stream",
     "text": [
      "                   all        403         92      0.511       0.25      0.369      0.134\n"
     ]
    },
    {
     "name": "stderr",
     "output_type": "stream",
     "text": [
      "\n"
     ]
    },
    {
     "name": "stdout",
     "output_type": "stream",
     "text": [
      "\n",
      "      Epoch    GPU_mem   box_loss   cls_loss   dfl_loss  Instances       Size\n"
     ]
    },
    {
     "name": "stderr",
     "output_type": "stream",
     "text": [
      "      20/50      7.48G      2.382      2.585      1.612         14        640: 100%|██████████| 101/101 [01:08<00:00,  1.48it/s]\n",
      "                 Class     Images  Instances      Box(P          R      mAP50  mAP50-95): 100%|██████████| 7/7 [00:03<00:00,  2.15it/s]"
     ]
    },
    {
     "name": "stdout",
     "output_type": "stream",
     "text": [
      "                   all        403         92       0.46      0.315      0.369      0.145\n"
     ]
    },
    {
     "name": "stderr",
     "output_type": "stream",
     "text": [
      "\n"
     ]
    },
    {
     "name": "stdout",
     "output_type": "stream",
     "text": [
      "\n",
      "      Epoch    GPU_mem   box_loss   cls_loss   dfl_loss  Instances       Size\n"
     ]
    },
    {
     "name": "stderr",
     "output_type": "stream",
     "text": [
      "      21/50      7.48G      2.372      2.545      1.612          9        640: 100%|██████████| 101/101 [01:08<00:00,  1.48it/s]\n",
      "                 Class     Images  Instances      Box(P          R      mAP50  mAP50-95): 100%|██████████| 7/7 [00:03<00:00,  1.92it/s]"
     ]
    },
    {
     "name": "stdout",
     "output_type": "stream",
     "text": [
      "                   all        403         92      0.414      0.283      0.314      0.131\n"
     ]
    },
    {
     "name": "stderr",
     "output_type": "stream",
     "text": [
      "\n"
     ]
    },
    {
     "name": "stdout",
     "output_type": "stream",
     "text": [
      "\n",
      "      Epoch    GPU_mem   box_loss   cls_loss   dfl_loss  Instances       Size\n"
     ]
    },
    {
     "name": "stderr",
     "output_type": "stream",
     "text": [
      "      22/50      7.47G      2.323      2.485      1.601         12        640: 100%|██████████| 101/101 [01:07<00:00,  1.49it/s]\n",
      "                 Class     Images  Instances      Box(P          R      mAP50  mAP50-95): 100%|██████████| 7/7 [00:03<00:00,  2.30it/s]"
     ]
    },
    {
     "name": "stdout",
     "output_type": "stream",
     "text": [
      "                   all        403         92      0.375      0.196      0.289      0.119\n"
     ]
    },
    {
     "name": "stderr",
     "output_type": "stream",
     "text": [
      "\n"
     ]
    },
    {
     "name": "stdout",
     "output_type": "stream",
     "text": [
      "\n",
      "      Epoch    GPU_mem   box_loss   cls_loss   dfl_loss  Instances       Size\n"
     ]
    },
    {
     "name": "stderr",
     "output_type": "stream",
     "text": [
      "      23/50      7.48G       2.32      2.517      1.631          3        640: 100%|██████████| 101/101 [01:08<00:00,  1.48it/s]\n",
      "                 Class     Images  Instances      Box(P          R      mAP50  mAP50-95): 100%|██████████| 7/7 [00:03<00:00,  2.12it/s]"
     ]
    },
    {
     "name": "stdout",
     "output_type": "stream",
     "text": [
      "                   all        403         92      0.462      0.261      0.375      0.174\n"
     ]
    },
    {
     "name": "stderr",
     "output_type": "stream",
     "text": [
      "\n"
     ]
    },
    {
     "name": "stdout",
     "output_type": "stream",
     "text": [
      "\n",
      "      Epoch    GPU_mem   box_loss   cls_loss   dfl_loss  Instances       Size\n"
     ]
    },
    {
     "name": "stderr",
     "output_type": "stream",
     "text": [
      "      24/50      7.48G      2.185      2.349      1.524         10        640: 100%|██████████| 101/101 [01:08<00:00,  1.47it/s]\n",
      "                 Class     Images  Instances      Box(P          R      mAP50  mAP50-95): 100%|██████████| 7/7 [00:03<00:00,  2.11it/s]"
     ]
    },
    {
     "name": "stdout",
     "output_type": "stream",
     "text": [
      "                   all        403         92      0.372      0.315      0.345      0.131\n"
     ]
    },
    {
     "name": "stderr",
     "output_type": "stream",
     "text": [
      "\n"
     ]
    },
    {
     "name": "stdout",
     "output_type": "stream",
     "text": [
      "\n",
      "      Epoch    GPU_mem   box_loss   cls_loss   dfl_loss  Instances       Size\n"
     ]
    },
    {
     "name": "stderr",
     "output_type": "stream",
     "text": [
      "      25/50      7.48G       2.31      2.407      1.577          9        640: 100%|██████████| 101/101 [01:08<00:00,  1.48it/s]\n",
      "                 Class     Images  Instances      Box(P          R      mAP50  mAP50-95): 100%|██████████| 7/7 [00:03<00:00,  1.91it/s]"
     ]
    },
    {
     "name": "stdout",
     "output_type": "stream",
     "text": [
      "                   all        403         92      0.515      0.346      0.378      0.159\n"
     ]
    },
    {
     "name": "stderr",
     "output_type": "stream",
     "text": [
      "\n"
     ]
    },
    {
     "name": "stdout",
     "output_type": "stream",
     "text": [
      "\n",
      "      Epoch    GPU_mem   box_loss   cls_loss   dfl_loss  Instances       Size\n"
     ]
    },
    {
     "name": "stderr",
     "output_type": "stream",
     "text": [
      "      26/50      7.48G      2.296       2.34      1.603         14        640: 100%|██████████| 101/101 [01:09<00:00,  1.45it/s]\n",
      "                 Class     Images  Instances      Box(P          R      mAP50  mAP50-95): 100%|██████████| 7/7 [00:03<00:00,  2.23it/s]"
     ]
    },
    {
     "name": "stdout",
     "output_type": "stream",
     "text": [
      "                   all        403         92      0.469      0.283      0.366      0.132\n"
     ]
    },
    {
     "name": "stderr",
     "output_type": "stream",
     "text": [
      "\n"
     ]
    },
    {
     "name": "stdout",
     "output_type": "stream",
     "text": [
      "\n",
      "      Epoch    GPU_mem   box_loss   cls_loss   dfl_loss  Instances       Size\n"
     ]
    },
    {
     "name": "stderr",
     "output_type": "stream",
     "text": [
      "      27/50      7.48G       2.27      2.443      1.585          1        640: 100%|██████████| 101/101 [01:07<00:00,  1.50it/s]\n",
      "                 Class     Images  Instances      Box(P          R      mAP50  mAP50-95): 100%|██████████| 7/7 [00:03<00:00,  2.18it/s]"
     ]
    },
    {
     "name": "stdout",
     "output_type": "stream",
     "text": [
      "                   all        403         92      0.567      0.326      0.378      0.139\n"
     ]
    },
    {
     "name": "stderr",
     "output_type": "stream",
     "text": [
      "\n"
     ]
    },
    {
     "name": "stdout",
     "output_type": "stream",
     "text": [
      "\n",
      "      Epoch    GPU_mem   box_loss   cls_loss   dfl_loss  Instances       Size\n"
     ]
    },
    {
     "name": "stderr",
     "output_type": "stream",
     "text": [
      "      28/50      7.48G      2.257      2.341      1.601          6        640: 100%|██████████| 101/101 [01:08<00:00,  1.48it/s]\n",
      "                 Class     Images  Instances      Box(P          R      mAP50  mAP50-95): 100%|██████████| 7/7 [00:03<00:00,  2.16it/s]"
     ]
    },
    {
     "name": "stdout",
     "output_type": "stream",
     "text": [
      "                   all        403         92      0.417      0.326      0.391      0.187\n"
     ]
    },
    {
     "name": "stderr",
     "output_type": "stream",
     "text": [
      "\n"
     ]
    },
    {
     "name": "stdout",
     "output_type": "stream",
     "text": [
      "\n",
      "      Epoch    GPU_mem   box_loss   cls_loss   dfl_loss  Instances       Size\n"
     ]
    },
    {
     "name": "stderr",
     "output_type": "stream",
     "text": [
      "      29/50      7.48G      2.262      2.304      1.567          5        640: 100%|██████████| 101/101 [01:06<00:00,  1.51it/s]\n",
      "                 Class     Images  Instances      Box(P          R      mAP50  mAP50-95): 100%|██████████| 7/7 [00:03<00:00,  2.02it/s]"
     ]
    },
    {
     "name": "stdout",
     "output_type": "stream",
     "text": [
      "                   all        403         92      0.482      0.293      0.346      0.161\n"
     ]
    },
    {
     "name": "stderr",
     "output_type": "stream",
     "text": [
      "\n"
     ]
    },
    {
     "name": "stdout",
     "output_type": "stream",
     "text": [
      "\n",
      "      Epoch    GPU_mem   box_loss   cls_loss   dfl_loss  Instances       Size\n"
     ]
    },
    {
     "name": "stderr",
     "output_type": "stream",
     "text": [
      "      30/50      7.48G      2.135      2.142      1.513          7        640: 100%|██████████| 101/101 [01:08<00:00,  1.48it/s]\n",
      "                 Class     Images  Instances      Box(P          R      mAP50  mAP50-95): 100%|██████████| 7/7 [00:03<00:00,  2.06it/s]"
     ]
    },
    {
     "name": "stdout",
     "output_type": "stream",
     "text": [
      "                   all        403         92      0.374       0.37      0.379      0.182\n"
     ]
    },
    {
     "name": "stderr",
     "output_type": "stream",
     "text": [
      "\n"
     ]
    },
    {
     "name": "stdout",
     "output_type": "stream",
     "text": [
      "\n",
      "      Epoch    GPU_mem   box_loss   cls_loss   dfl_loss  Instances       Size\n"
     ]
    },
    {
     "name": "stderr",
     "output_type": "stream",
     "text": [
      "      31/50      7.48G       2.19      2.174      1.552          4        640: 100%|██████████| 101/101 [01:08<00:00,  1.47it/s]\n",
      "                 Class     Images  Instances      Box(P          R      mAP50  mAP50-95): 100%|██████████| 7/7 [00:03<00:00,  2.06it/s]"
     ]
    },
    {
     "name": "stdout",
     "output_type": "stream",
     "text": [
      "                   all        403         92      0.492      0.348      0.381      0.169\n"
     ]
    },
    {
     "name": "stderr",
     "output_type": "stream",
     "text": [
      "\n"
     ]
    },
    {
     "name": "stdout",
     "output_type": "stream",
     "text": [
      "\n",
      "      Epoch    GPU_mem   box_loss   cls_loss   dfl_loss  Instances       Size\n"
     ]
    },
    {
     "name": "stderr",
     "output_type": "stream",
     "text": [
      "      32/50      7.48G      2.169      2.193      1.533          4        640: 100%|██████████| 101/101 [01:08<00:00,  1.47it/s]\n",
      "                 Class     Images  Instances      Box(P          R      mAP50  mAP50-95): 100%|██████████| 7/7 [00:03<00:00,  2.14it/s]"
     ]
    },
    {
     "name": "stdout",
     "output_type": "stream",
     "text": [
      "                   all        403         92      0.518      0.373      0.415      0.179\n"
     ]
    },
    {
     "name": "stderr",
     "output_type": "stream",
     "text": [
      "\n"
     ]
    },
    {
     "name": "stdout",
     "output_type": "stream",
     "text": [
      "\n",
      "      Epoch    GPU_mem   box_loss   cls_loss   dfl_loss  Instances       Size\n"
     ]
    },
    {
     "name": "stderr",
     "output_type": "stream",
     "text": [
      "      33/50      7.47G      2.117      2.174      1.485          5        640: 100%|██████████| 101/101 [01:08<00:00,  1.48it/s]\n",
      "                 Class     Images  Instances      Box(P          R      mAP50  mAP50-95): 100%|██████████| 7/7 [00:03<00:00,  2.21it/s]"
     ]
    },
    {
     "name": "stdout",
     "output_type": "stream",
     "text": [
      "                   all        403         92      0.568      0.326      0.441      0.213\n"
     ]
    },
    {
     "name": "stderr",
     "output_type": "stream",
     "text": [
      "\n"
     ]
    },
    {
     "name": "stdout",
     "output_type": "stream",
     "text": [
      "\n",
      "      Epoch    GPU_mem   box_loss   cls_loss   dfl_loss  Instances       Size\n"
     ]
    },
    {
     "name": "stderr",
     "output_type": "stream",
     "text": [
      "      34/50      7.48G      2.191      2.215      1.543          6        640: 100%|██████████| 101/101 [01:08<00:00,  1.48it/s]\n",
      "                 Class     Images  Instances      Box(P          R      mAP50  mAP50-95): 100%|██████████| 7/7 [00:03<00:00,  2.04it/s]"
     ]
    },
    {
     "name": "stdout",
     "output_type": "stream",
     "text": [
      "                   all        403         92      0.611      0.348      0.424      0.179\n"
     ]
    },
    {
     "name": "stderr",
     "output_type": "stream",
     "text": [
      "\n"
     ]
    },
    {
     "name": "stdout",
     "output_type": "stream",
     "text": [
      "\n",
      "      Epoch    GPU_mem   box_loss   cls_loss   dfl_loss  Instances       Size\n"
     ]
    },
    {
     "name": "stderr",
     "output_type": "stream",
     "text": [
      "      35/50      7.47G      2.107      2.233      1.486          0        640: 100%|██████████| 101/101 [01:09<00:00,  1.45it/s]\n",
      "                 Class     Images  Instances      Box(P          R      mAP50  mAP50-95): 100%|██████████| 7/7 [00:03<00:00,  2.21it/s]"
     ]
    },
    {
     "name": "stdout",
     "output_type": "stream",
     "text": [
      "                   all        403         92      0.539      0.344      0.409      0.162\n"
     ]
    },
    {
     "name": "stderr",
     "output_type": "stream",
     "text": [
      "\n"
     ]
    },
    {
     "name": "stdout",
     "output_type": "stream",
     "text": [
      "\n",
      "      Epoch    GPU_mem   box_loss   cls_loss   dfl_loss  Instances       Size\n"
     ]
    },
    {
     "name": "stderr",
     "output_type": "stream",
     "text": [
      "      36/50      7.48G       2.08      2.074      1.512         10        640: 100%|██████████| 101/101 [01:07<00:00,  1.49it/s]\n",
      "                 Class     Images  Instances      Box(P          R      mAP50  mAP50-95): 100%|██████████| 7/7 [00:03<00:00,  2.06it/s]"
     ]
    },
    {
     "name": "stdout",
     "output_type": "stream",
     "text": [
      "                   all        403         92      0.521      0.391      0.463      0.208\n"
     ]
    },
    {
     "name": "stderr",
     "output_type": "stream",
     "text": [
      "\n"
     ]
    },
    {
     "name": "stdout",
     "output_type": "stream",
     "text": [
      "\n",
      "      Epoch    GPU_mem   box_loss   cls_loss   dfl_loss  Instances       Size\n"
     ]
    },
    {
     "name": "stderr",
     "output_type": "stream",
     "text": [
      "      37/50      7.48G      2.109      2.087      1.488          2        640: 100%|██████████| 101/101 [01:08<00:00,  1.48it/s]\n",
      "                 Class     Images  Instances      Box(P          R      mAP50  mAP50-95): 100%|██████████| 7/7 [00:03<00:00,  2.07it/s]"
     ]
    },
    {
     "name": "stdout",
     "output_type": "stream",
     "text": [
      "                   all        403         92      0.575      0.338      0.434      0.172\n"
     ]
    },
    {
     "name": "stderr",
     "output_type": "stream",
     "text": [
      "\n"
     ]
    },
    {
     "name": "stdout",
     "output_type": "stream",
     "text": [
      "\n",
      "      Epoch    GPU_mem   box_loss   cls_loss   dfl_loss  Instances       Size\n"
     ]
    },
    {
     "name": "stderr",
     "output_type": "stream",
     "text": [
      "      38/50      7.48G      2.069      2.012      1.461         10        640: 100%|██████████| 101/101 [01:07<00:00,  1.49it/s]\n",
      "                 Class     Images  Instances      Box(P          R      mAP50  mAP50-95): 100%|██████████| 7/7 [00:03<00:00,  2.16it/s]"
     ]
    },
    {
     "name": "stdout",
     "output_type": "stream",
     "text": [
      "                   all        403         92       0.72      0.283       0.42       0.17\n"
     ]
    },
    {
     "name": "stderr",
     "output_type": "stream",
     "text": [
      "\n"
     ]
    },
    {
     "name": "stdout",
     "output_type": "stream",
     "text": [
      "\n",
      "      Epoch    GPU_mem   box_loss   cls_loss   dfl_loss  Instances       Size\n"
     ]
    },
    {
     "name": "stderr",
     "output_type": "stream",
     "text": [
      "      39/50      7.48G      2.052      1.993      1.444         11        640: 100%|██████████| 101/101 [01:06<00:00,  1.52it/s]\n",
      "                 Class     Images  Instances      Box(P          R      mAP50  mAP50-95): 100%|██████████| 7/7 [00:03<00:00,  1.95it/s]"
     ]
    },
    {
     "name": "stdout",
     "output_type": "stream",
     "text": [
      "                   all        403         92       0.52      0.306        0.4      0.153\n"
     ]
    },
    {
     "name": "stderr",
     "output_type": "stream",
     "text": [
      "\n"
     ]
    },
    {
     "name": "stdout",
     "output_type": "stream",
     "text": [
      "\n",
      "      Epoch    GPU_mem   box_loss   cls_loss   dfl_loss  Instances       Size\n"
     ]
    },
    {
     "name": "stderr",
     "output_type": "stream",
     "text": [
      "      40/50      7.47G      2.113      2.014      1.504          5        640: 100%|██████████| 101/101 [01:07<00:00,  1.49it/s]\n",
      "                 Class     Images  Instances      Box(P          R      mAP50  mAP50-95): 100%|██████████| 7/7 [00:03<00:00,  2.20it/s]"
     ]
    },
    {
     "name": "stdout",
     "output_type": "stream",
     "text": [
      "                   all        403         92      0.458      0.348      0.401      0.174\n"
     ]
    },
    {
     "name": "stderr",
     "output_type": "stream",
     "text": [
      "\n"
     ]
    },
    {
     "name": "stdout",
     "output_type": "stream",
     "text": [
      "\n",
      "      Epoch    GPU_mem   box_loss   cls_loss   dfl_loss  Instances       Size\n"
     ]
    },
    {
     "name": "stderr",
     "output_type": "stream",
     "text": [
      "      41/50      7.48G      2.048      1.946      1.474          3        640: 100%|██████████| 101/101 [01:08<00:00,  1.47it/s]\n",
      "                 Class     Images  Instances      Box(P          R      mAP50  mAP50-95): 100%|██████████| 7/7 [00:03<00:00,  2.07it/s]"
     ]
    },
    {
     "name": "stdout",
     "output_type": "stream",
     "text": [
      "                   all        403         92      0.544      0.389      0.467      0.208\n"
     ]
    },
    {
     "name": "stderr",
     "output_type": "stream",
     "text": [
      "\n"
     ]
    },
    {
     "name": "stdout",
     "output_type": "stream",
     "text": [
      "\n",
      "      Epoch    GPU_mem   box_loss   cls_loss   dfl_loss  Instances       Size\n"
     ]
    },
    {
     "name": "stderr",
     "output_type": "stream",
     "text": [
      "      42/50      7.48G      2.078      1.955      1.483         10        640: 100%|██████████| 101/101 [01:08<00:00,  1.49it/s]\n",
      "                 Class     Images  Instances      Box(P          R      mAP50  mAP50-95): 100%|██████████| 7/7 [00:03<00:00,  2.18it/s]"
     ]
    },
    {
     "name": "stdout",
     "output_type": "stream",
     "text": [
      "                   all        403         92      0.596      0.391      0.453      0.194\n"
     ]
    },
    {
     "name": "stderr",
     "output_type": "stream",
     "text": [
      "\n"
     ]
    },
    {
     "name": "stdout",
     "output_type": "stream",
     "text": [
      "\n",
      "      Epoch    GPU_mem   box_loss   cls_loss   dfl_loss  Instances       Size\n"
     ]
    },
    {
     "name": "stderr",
     "output_type": "stream",
     "text": [
      "      43/50      7.48G      2.018      1.856      1.426          7        640: 100%|██████████| 101/101 [01:07<00:00,  1.51it/s]\n",
      "                 Class     Images  Instances      Box(P          R      mAP50  mAP50-95): 100%|██████████| 7/7 [00:03<00:00,  2.06it/s]"
     ]
    },
    {
     "name": "stdout",
     "output_type": "stream",
     "text": [
      "                   all        403         92      0.564      0.326      0.431      0.197\n"
     ]
    },
    {
     "name": "stderr",
     "output_type": "stream",
     "text": [
      "\n"
     ]
    },
    {
     "name": "stdout",
     "output_type": "stream",
     "text": [
      "\n",
      "      Epoch    GPU_mem   box_loss   cls_loss   dfl_loss  Instances       Size\n"
     ]
    },
    {
     "name": "stderr",
     "output_type": "stream",
     "text": [
      "      44/50      7.47G      1.991      1.877      1.424          8        640: 100%|██████████| 101/101 [01:06<00:00,  1.51it/s]\n",
      "                 Class     Images  Instances      Box(P          R      mAP50  mAP50-95): 100%|██████████| 7/7 [00:03<00:00,  2.23it/s]"
     ]
    },
    {
     "name": "stdout",
     "output_type": "stream",
     "text": [
      "                   all        403         92      0.638      0.326      0.439      0.195\n"
     ]
    },
    {
     "name": "stderr",
     "output_type": "stream",
     "text": [
      "\n"
     ]
    },
    {
     "name": "stdout",
     "output_type": "stream",
     "text": [
      "\n",
      "      Epoch    GPU_mem   box_loss   cls_loss   dfl_loss  Instances       Size\n"
     ]
    },
    {
     "name": "stderr",
     "output_type": "stream",
     "text": [
      "      45/50      7.48G       1.97      1.821      1.404          6        640: 100%|██████████| 101/101 [01:08<00:00,  1.48it/s]\n",
      "                 Class     Images  Instances      Box(P          R      mAP50  mAP50-95): 100%|██████████| 7/7 [00:03<00:00,  2.12it/s]"
     ]
    },
    {
     "name": "stdout",
     "output_type": "stream",
     "text": [
      "                   all        403         92      0.651      0.326      0.443      0.204\n"
     ]
    },
    {
     "name": "stderr",
     "output_type": "stream",
     "text": [
      "\n"
     ]
    },
    {
     "name": "stdout",
     "output_type": "stream",
     "text": [
      "\n",
      "      Epoch    GPU_mem   box_loss   cls_loss   dfl_loss  Instances       Size\n"
     ]
    },
    {
     "name": "stderr",
     "output_type": "stream",
     "text": [
      "      46/50      7.47G      1.955      1.822      1.406          4        640: 100%|██████████| 101/101 [01:07<00:00,  1.50it/s]\n",
      "                 Class     Images  Instances      Box(P          R      mAP50  mAP50-95): 100%|██████████| 7/7 [00:03<00:00,  2.14it/s]"
     ]
    },
    {
     "name": "stdout",
     "output_type": "stream",
     "text": [
      "                   all        403         92       0.49      0.398      0.469      0.209\n"
     ]
    },
    {
     "name": "stderr",
     "output_type": "stream",
     "text": [
      "\n"
     ]
    },
    {
     "name": "stdout",
     "output_type": "stream",
     "text": [
      "\n",
      "      Epoch    GPU_mem   box_loss   cls_loss   dfl_loss  Instances       Size\n"
     ]
    },
    {
     "name": "stderr",
     "output_type": "stream",
     "text": [
      "      47/50      7.48G      1.889      1.756      1.366          5        640: 100%|██████████| 101/101 [01:07<00:00,  1.49it/s]\n",
      "                 Class     Images  Instances      Box(P          R      mAP50  mAP50-95): 100%|██████████| 7/7 [00:03<00:00,  2.06it/s]"
     ]
    },
    {
     "name": "stdout",
     "output_type": "stream",
     "text": [
      "                   all        403         92      0.679      0.315       0.46      0.197\n"
     ]
    },
    {
     "name": "stderr",
     "output_type": "stream",
     "text": [
      "\n"
     ]
    },
    {
     "name": "stdout",
     "output_type": "stream",
     "text": [
      "\n",
      "      Epoch    GPU_mem   box_loss   cls_loss   dfl_loss  Instances       Size\n"
     ]
    },
    {
     "name": "stderr",
     "output_type": "stream",
     "text": [
      "      48/50      7.48G      1.956      1.758      1.395          7        640: 100%|██████████| 101/101 [01:07<00:00,  1.49it/s]\n",
      "                 Class     Images  Instances      Box(P          R      mAP50  mAP50-95): 100%|██████████| 7/7 [00:03<00:00,  1.90it/s]"
     ]
    },
    {
     "name": "stdout",
     "output_type": "stream",
     "text": [
      "                   all        403         92       0.65      0.315      0.454       0.21\n"
     ]
    },
    {
     "name": "stderr",
     "output_type": "stream",
     "text": [
      "\n"
     ]
    },
    {
     "name": "stdout",
     "output_type": "stream",
     "text": [
      "\n",
      "      Epoch    GPU_mem   box_loss   cls_loss   dfl_loss  Instances       Size\n"
     ]
    },
    {
     "name": "stderr",
     "output_type": "stream",
     "text": [
      "      49/50      7.48G      1.908      1.765      1.403          6        640: 100%|██████████| 101/101 [01:07<00:00,  1.50it/s]\n",
      "                 Class     Images  Instances      Box(P          R      mAP50  mAP50-95): 100%|██████████| 7/7 [00:03<00:00,  2.13it/s]"
     ]
    },
    {
     "name": "stdout",
     "output_type": "stream",
     "text": [
      "                   all        403         92      0.636      0.326      0.459      0.208\n"
     ]
    },
    {
     "name": "stderr",
     "output_type": "stream",
     "text": [
      "\n"
     ]
    },
    {
     "name": "stdout",
     "output_type": "stream",
     "text": [
      "\n",
      "      Epoch    GPU_mem   box_loss   cls_loss   dfl_loss  Instances       Size\n"
     ]
    },
    {
     "name": "stderr",
     "output_type": "stream",
     "text": [
      "      50/50      7.47G      1.983      1.753      1.412          6        640: 100%|██████████| 101/101 [01:07<00:00,  1.51it/s]\n",
      "                 Class     Images  Instances      Box(P          R      mAP50  mAP50-95): 100%|██████████| 7/7 [00:03<00:00,  2.11it/s]"
     ]
    },
    {
     "name": "stdout",
     "output_type": "stream",
     "text": [
      "                   all        403         92      0.606      0.334      0.455      0.204\n"
     ]
    },
    {
     "name": "stderr",
     "output_type": "stream",
     "text": [
      "\n"
     ]
    },
    {
     "name": "stdout",
     "output_type": "stream",
     "text": [
      "\n",
      "50 epochs completed in 1.038 hours.\n",
      "Optimizer stripped from runs/detect/train8/weights/last.pt, 6.2MB\n",
      "Optimizer stripped from runs/detect/train8/weights/best.pt, 6.2MB\n",
      "\n",
      "Validating runs/detect/train8/weights/best.pt...\n",
      "Ultralytics 8.3.113 🚀 Python-3.12.7 torch-2.6.0 MPS (Apple M4 Max)\n",
      "Model summary (fused): 72 layers, 3,005,843 parameters, 0 gradients, 8.1 GFLOPs\n"
     ]
    },
    {
     "name": "stderr",
     "output_type": "stream",
     "text": [
      "                 Class     Images  Instances      Box(P          R      mAP50  mAP50-95): 100%|██████████| 7/7 [00:06<00:00,  1.04it/s]\n"
     ]
    },
    {
     "name": "stdout",
     "output_type": "stream",
     "text": [
      "                   all        403         92      0.568      0.326      0.441      0.213\n",
      "Speed: 0.4ms preprocess, 7.7ms inference, 0.0ms loss, 0.9ms postprocess per image\n",
      "Results saved to \u001B[1mruns/detect/train8\u001B[0m\n"
     ]
    },
    {
     "data": {
      "text/plain": [
       "ultralytics.utils.metrics.DetMetrics object with attributes:\n",
       "\n",
       "ap_class_index: array([0])\n",
       "box: ultralytics.utils.metrics.Metric object\n",
       "confusion_matrix: <ultralytics.utils.metrics.ConfusionMatrix object at 0x3695f9880>\n",
       "curves: ['Precision-Recall(B)', 'F1-Confidence(B)', 'Precision-Confidence(B)', 'Recall-Confidence(B)']\n",
       "curves_results: [[array([          0,    0.001001,    0.002002,    0.003003,    0.004004,    0.005005,    0.006006,    0.007007,    0.008008,    0.009009,     0.01001,    0.011011,    0.012012,    0.013013,    0.014014,    0.015015,    0.016016,    0.017017,    0.018018,    0.019019,     0.02002,    0.021021,    0.022022,    0.023023,\n",
       "          0.024024,    0.025025,    0.026026,    0.027027,    0.028028,    0.029029,     0.03003,    0.031031,    0.032032,    0.033033,    0.034034,    0.035035,    0.036036,    0.037037,    0.038038,    0.039039,     0.04004,    0.041041,    0.042042,    0.043043,    0.044044,    0.045045,    0.046046,    0.047047,\n",
       "          0.048048,    0.049049,     0.05005,    0.051051,    0.052052,    0.053053,    0.054054,    0.055055,    0.056056,    0.057057,    0.058058,    0.059059,     0.06006,    0.061061,    0.062062,    0.063063,    0.064064,    0.065065,    0.066066,    0.067067,    0.068068,    0.069069,     0.07007,    0.071071,\n",
       "          0.072072,    0.073073,    0.074074,    0.075075,    0.076076,    0.077077,    0.078078,    0.079079,     0.08008,    0.081081,    0.082082,    0.083083,    0.084084,    0.085085,    0.086086,    0.087087,    0.088088,    0.089089,     0.09009,    0.091091,    0.092092,    0.093093,    0.094094,    0.095095,\n",
       "          0.096096,    0.097097,    0.098098,    0.099099,      0.1001,      0.1011,      0.1021,      0.1031,      0.1041,     0.10511,     0.10611,     0.10711,     0.10811,     0.10911,     0.11011,     0.11111,     0.11211,     0.11311,     0.11411,     0.11512,     0.11612,     0.11712,     0.11812,     0.11912,\n",
       "           0.12012,     0.12112,     0.12212,     0.12312,     0.12412,     0.12513,     0.12613,     0.12713,     0.12813,     0.12913,     0.13013,     0.13113,     0.13213,     0.13313,     0.13413,     0.13514,     0.13614,     0.13714,     0.13814,     0.13914,     0.14014,     0.14114,     0.14214,     0.14314,\n",
       "           0.14414,     0.14515,     0.14615,     0.14715,     0.14815,     0.14915,     0.15015,     0.15115,     0.15215,     0.15315,     0.15415,     0.15516,     0.15616,     0.15716,     0.15816,     0.15916,     0.16016,     0.16116,     0.16216,     0.16316,     0.16416,     0.16517,     0.16617,     0.16717,\n",
       "           0.16817,     0.16917,     0.17017,     0.17117,     0.17217,     0.17317,     0.17417,     0.17518,     0.17618,     0.17718,     0.17818,     0.17918,     0.18018,     0.18118,     0.18218,     0.18318,     0.18418,     0.18519,     0.18619,     0.18719,     0.18819,     0.18919,     0.19019,     0.19119,\n",
       "           0.19219,     0.19319,     0.19419,      0.1952,      0.1962,      0.1972,      0.1982,      0.1992,      0.2002,      0.2012,      0.2022,      0.2032,      0.2042,     0.20521,     0.20621,     0.20721,     0.20821,     0.20921,     0.21021,     0.21121,     0.21221,     0.21321,     0.21421,     0.21522,\n",
       "           0.21622,     0.21722,     0.21822,     0.21922,     0.22022,     0.22122,     0.22222,     0.22322,     0.22422,     0.22523,     0.22623,     0.22723,     0.22823,     0.22923,     0.23023,     0.23123,     0.23223,     0.23323,     0.23423,     0.23524,     0.23624,     0.23724,     0.23824,     0.23924,\n",
       "           0.24024,     0.24124,     0.24224,     0.24324,     0.24424,     0.24525,     0.24625,     0.24725,     0.24825,     0.24925,     0.25025,     0.25125,     0.25225,     0.25325,     0.25425,     0.25526,     0.25626,     0.25726,     0.25826,     0.25926,     0.26026,     0.26126,     0.26226,     0.26326,\n",
       "           0.26426,     0.26527,     0.26627,     0.26727,     0.26827,     0.26927,     0.27027,     0.27127,     0.27227,     0.27327,     0.27427,     0.27528,     0.27628,     0.27728,     0.27828,     0.27928,     0.28028,     0.28128,     0.28228,     0.28328,     0.28428,     0.28529,     0.28629,     0.28729,\n",
       "           0.28829,     0.28929,     0.29029,     0.29129,     0.29229,     0.29329,     0.29429,      0.2953,      0.2963,      0.2973,      0.2983,      0.2993,      0.3003,      0.3013,      0.3023,      0.3033,      0.3043,     0.30531,     0.30631,     0.30731,     0.30831,     0.30931,     0.31031,     0.31131,\n",
       "           0.31231,     0.31331,     0.31431,     0.31532,     0.31632,     0.31732,     0.31832,     0.31932,     0.32032,     0.32132,     0.32232,     0.32332,     0.32432,     0.32533,     0.32633,     0.32733,     0.32833,     0.32933,     0.33033,     0.33133,     0.33233,     0.33333,     0.33433,     0.33534,\n",
       "           0.33634,     0.33734,     0.33834,     0.33934,     0.34034,     0.34134,     0.34234,     0.34334,     0.34434,     0.34535,     0.34635,     0.34735,     0.34835,     0.34935,     0.35035,     0.35135,     0.35235,     0.35335,     0.35435,     0.35536,     0.35636,     0.35736,     0.35836,     0.35936,\n",
       "           0.36036,     0.36136,     0.36236,     0.36336,     0.36436,     0.36537,     0.36637,     0.36737,     0.36837,     0.36937,     0.37037,     0.37137,     0.37237,     0.37337,     0.37437,     0.37538,     0.37638,     0.37738,     0.37838,     0.37938,     0.38038,     0.38138,     0.38238,     0.38338,\n",
       "           0.38438,     0.38539,     0.38639,     0.38739,     0.38839,     0.38939,     0.39039,     0.39139,     0.39239,     0.39339,     0.39439,      0.3954,      0.3964,      0.3974,      0.3984,      0.3994,      0.4004,      0.4014,      0.4024,      0.4034,      0.4044,     0.40541,     0.40641,     0.40741,\n",
       "           0.40841,     0.40941,     0.41041,     0.41141,     0.41241,     0.41341,     0.41441,     0.41542,     0.41642,     0.41742,     0.41842,     0.41942,     0.42042,     0.42142,     0.42242,     0.42342,     0.42442,     0.42543,     0.42643,     0.42743,     0.42843,     0.42943,     0.43043,     0.43143,\n",
       "           0.43243,     0.43343,     0.43443,     0.43544,     0.43644,     0.43744,     0.43844,     0.43944,     0.44044,     0.44144,     0.44244,     0.44344,     0.44444,     0.44545,     0.44645,     0.44745,     0.44845,     0.44945,     0.45045,     0.45145,     0.45245,     0.45345,     0.45445,     0.45546,\n",
       "           0.45646,     0.45746,     0.45846,     0.45946,     0.46046,     0.46146,     0.46246,     0.46346,     0.46446,     0.46547,     0.46647,     0.46747,     0.46847,     0.46947,     0.47047,     0.47147,     0.47247,     0.47347,     0.47447,     0.47548,     0.47648,     0.47748,     0.47848,     0.47948,\n",
       "           0.48048,     0.48148,     0.48248,     0.48348,     0.48448,     0.48549,     0.48649,     0.48749,     0.48849,     0.48949,     0.49049,     0.49149,     0.49249,     0.49349,     0.49449,      0.4955,      0.4965,      0.4975,      0.4985,      0.4995,      0.5005,      0.5015,      0.5025,      0.5035,\n",
       "            0.5045,     0.50551,     0.50651,     0.50751,     0.50851,     0.50951,     0.51051,     0.51151,     0.51251,     0.51351,     0.51451,     0.51552,     0.51652,     0.51752,     0.51852,     0.51952,     0.52052,     0.52152,     0.52252,     0.52352,     0.52452,     0.52553,     0.52653,     0.52753,\n",
       "           0.52853,     0.52953,     0.53053,     0.53153,     0.53253,     0.53353,     0.53453,     0.53554,     0.53654,     0.53754,     0.53854,     0.53954,     0.54054,     0.54154,     0.54254,     0.54354,     0.54454,     0.54555,     0.54655,     0.54755,     0.54855,     0.54955,     0.55055,     0.55155,\n",
       "           0.55255,     0.55355,     0.55455,     0.55556,     0.55656,     0.55756,     0.55856,     0.55956,     0.56056,     0.56156,     0.56256,     0.56356,     0.56456,     0.56557,     0.56657,     0.56757,     0.56857,     0.56957,     0.57057,     0.57157,     0.57257,     0.57357,     0.57457,     0.57558,\n",
       "           0.57658,     0.57758,     0.57858,     0.57958,     0.58058,     0.58158,     0.58258,     0.58358,     0.58458,     0.58559,     0.58659,     0.58759,     0.58859,     0.58959,     0.59059,     0.59159,     0.59259,     0.59359,     0.59459,      0.5956,      0.5966,      0.5976,      0.5986,      0.5996,\n",
       "            0.6006,      0.6016,      0.6026,      0.6036,      0.6046,     0.60561,     0.60661,     0.60761,     0.60861,     0.60961,     0.61061,     0.61161,     0.61261,     0.61361,     0.61461,     0.61562,     0.61662,     0.61762,     0.61862,     0.61962,     0.62062,     0.62162,     0.62262,     0.62362,\n",
       "           0.62462,     0.62563,     0.62663,     0.62763,     0.62863,     0.62963,     0.63063,     0.63163,     0.63263,     0.63363,     0.63463,     0.63564,     0.63664,     0.63764,     0.63864,     0.63964,     0.64064,     0.64164,     0.64264,     0.64364,     0.64464,     0.64565,     0.64665,     0.64765,\n",
       "           0.64865,     0.64965,     0.65065,     0.65165,     0.65265,     0.65365,     0.65465,     0.65566,     0.65666,     0.65766,     0.65866,     0.65966,     0.66066,     0.66166,     0.66266,     0.66366,     0.66466,     0.66567,     0.66667,     0.66767,     0.66867,     0.66967,     0.67067,     0.67167,\n",
       "           0.67267,     0.67367,     0.67467,     0.67568,     0.67668,     0.67768,     0.67868,     0.67968,     0.68068,     0.68168,     0.68268,     0.68368,     0.68468,     0.68569,     0.68669,     0.68769,     0.68869,     0.68969,     0.69069,     0.69169,     0.69269,     0.69369,     0.69469,      0.6957,\n",
       "            0.6967,      0.6977,      0.6987,      0.6997,      0.7007,      0.7017,      0.7027,      0.7037,      0.7047,     0.70571,     0.70671,     0.70771,     0.70871,     0.70971,     0.71071,     0.71171,     0.71271,     0.71371,     0.71471,     0.71572,     0.71672,     0.71772,     0.71872,     0.71972,\n",
       "           0.72072,     0.72172,     0.72272,     0.72372,     0.72472,     0.72573,     0.72673,     0.72773,     0.72873,     0.72973,     0.73073,     0.73173,     0.73273,     0.73373,     0.73473,     0.73574,     0.73674,     0.73774,     0.73874,     0.73974,     0.74074,     0.74174,     0.74274,     0.74374,\n",
       "           0.74474,     0.74575,     0.74675,     0.74775,     0.74875,     0.74975,     0.75075,     0.75175,     0.75275,     0.75375,     0.75475,     0.75576,     0.75676,     0.75776,     0.75876,     0.75976,     0.76076,     0.76176,     0.76276,     0.76376,     0.76476,     0.76577,     0.76677,     0.76777,\n",
       "           0.76877,     0.76977,     0.77077,     0.77177,     0.77277,     0.77377,     0.77477,     0.77578,     0.77678,     0.77778,     0.77878,     0.77978,     0.78078,     0.78178,     0.78278,     0.78378,     0.78478,     0.78579,     0.78679,     0.78779,     0.78879,     0.78979,     0.79079,     0.79179,\n",
       "           0.79279,     0.79379,     0.79479,      0.7958,      0.7968,      0.7978,      0.7988,      0.7998,      0.8008,      0.8018,      0.8028,      0.8038,      0.8048,     0.80581,     0.80681,     0.80781,     0.80881,     0.80981,     0.81081,     0.81181,     0.81281,     0.81381,     0.81481,     0.81582,\n",
       "           0.81682,     0.81782,     0.81882,     0.81982,     0.82082,     0.82182,     0.82282,     0.82382,     0.82482,     0.82583,     0.82683,     0.82783,     0.82883,     0.82983,     0.83083,     0.83183,     0.83283,     0.83383,     0.83483,     0.83584,     0.83684,     0.83784,     0.83884,     0.83984,\n",
       "           0.84084,     0.84184,     0.84284,     0.84384,     0.84484,     0.84585,     0.84685,     0.84785,     0.84885,     0.84985,     0.85085,     0.85185,     0.85285,     0.85385,     0.85485,     0.85586,     0.85686,     0.85786,     0.85886,     0.85986,     0.86086,     0.86186,     0.86286,     0.86386,\n",
       "           0.86486,     0.86587,     0.86687,     0.86787,     0.86887,     0.86987,     0.87087,     0.87187,     0.87287,     0.87387,     0.87487,     0.87588,     0.87688,     0.87788,     0.87888,     0.87988,     0.88088,     0.88188,     0.88288,     0.88388,     0.88488,     0.88589,     0.88689,     0.88789,\n",
       "           0.88889,     0.88989,     0.89089,     0.89189,     0.89289,     0.89389,     0.89489,      0.8959,      0.8969,      0.8979,      0.8989,      0.8999,      0.9009,      0.9019,      0.9029,      0.9039,      0.9049,     0.90591,     0.90691,     0.90791,     0.90891,     0.90991,     0.91091,     0.91191,\n",
       "           0.91291,     0.91391,     0.91491,     0.91592,     0.91692,     0.91792,     0.91892,     0.91992,     0.92092,     0.92192,     0.92292,     0.92392,     0.92492,     0.92593,     0.92693,     0.92793,     0.92893,     0.92993,     0.93093,     0.93193,     0.93293,     0.93393,     0.93493,     0.93594,\n",
       "           0.93694,     0.93794,     0.93894,     0.93994,     0.94094,     0.94194,     0.94294,     0.94394,     0.94494,     0.94595,     0.94695,     0.94795,     0.94895,     0.94995,     0.95095,     0.95195,     0.95295,     0.95395,     0.95495,     0.95596,     0.95696,     0.95796,     0.95896,     0.95996,\n",
       "           0.96096,     0.96196,     0.96296,     0.96396,     0.96496,     0.96597,     0.96697,     0.96797,     0.96897,     0.96997,     0.97097,     0.97197,     0.97297,     0.97397,     0.97497,     0.97598,     0.97698,     0.97798,     0.97898,     0.97998,     0.98098,     0.98198,     0.98298,     0.98398,\n",
       "           0.98498,     0.98599,     0.98699,     0.98799,     0.98899,     0.98999,     0.99099,     0.99199,     0.99299,     0.99399,     0.99499,       0.996,       0.997,       0.998,       0.999,           1]), array([[          1,           1,           1,           1,           1,           1,           1,           1,           1,           1,           1,           1,           1,           1,           1,           1,           1,           1,           1,           1,           1,           1,           1,\n",
       "                  1,           1,           1,           1,           1,           1,           1,           1,           1,           1,           1,           1,           1,           1,           1,           1,           1,           1,           1,           1,           1,           1,           1,\n",
       "                  1,           1,           1,           1,           1,           1,           1,           1,           1,           1,           1,           1,           1,           1,           1,           1,           1,           1,           1,           1,           1,           1,           1,\n",
       "                  1,           1,           1,           1,           1,           1,           1,           1,           1,           1,           1,           1,           1,           1,           1,           1,           1,           1,           1,           1,           1,           1,           1,\n",
       "                  1,           1,           1,           1,           1,           1,           1,           1,           1,           1,           1,           1,           1,           1,           1,           1,           1,           1,           1,           1,           1,           1,           1,\n",
       "                  1,           1,           1,           1,           1,     0.93333,     0.93333,     0.93333,     0.93333,     0.93333,     0.93333,     0.93333,     0.93333,     0.93333,     0.93333,     0.93333,     0.93333,     0.93333,     0.93333,     0.93333,     0.93333,     0.93333,     0.93333,\n",
       "            0.93333,     0.93333,     0.93333,     0.93333,     0.93333,     0.93333,     0.93333,     0.93333,     0.93333,     0.93333,     0.93333,     0.93333,     0.93333,     0.93333,     0.93333,     0.88235,     0.88235,     0.88235,     0.88235,     0.88235,     0.88235,     0.88235,     0.88235,\n",
       "            0.88235,     0.88235,     0.84211,     0.84211,     0.84211,     0.84211,     0.84211,     0.84211,     0.84211,     0.84211,     0.84211,     0.84211,     0.84211,     0.77273,     0.77273,     0.77273,     0.77273,     0.77273,     0.77273,     0.77273,     0.77273,     0.77273,     0.77273,\n",
       "            0.77273,     0.76667,     0.76667,     0.76667,     0.76667,     0.76667,     0.76667,     0.76667,     0.76667,     0.76667,     0.76667,     0.76667,     0.76667,     0.76667,     0.76667,     0.76667,     0.76667,     0.76667,     0.76667,     0.76667,     0.76667,     0.76667,     0.76667,\n",
       "            0.76667,     0.76667,     0.76667,     0.76667,     0.76667,     0.76667,     0.76667,     0.76667,     0.76667,     0.76667,     0.76667,     0.76667,     0.76667,     0.76667,     0.76667,     0.76667,     0.76667,     0.76667,     0.76667,     0.76667,     0.76667,     0.76667,     0.76667,\n",
       "            0.76667,     0.76667,     0.76667,     0.76667,     0.76667,     0.76667,     0.76667,     0.76667,     0.76667,     0.76667,     0.76667,     0.76667,     0.76667,     0.76667,     0.76667,     0.76667,     0.76667,     0.76667,     0.76667,     0.76667,        0.75,        0.75,        0.75,\n",
       "               0.75,        0.75,        0.75,        0.75,        0.75,        0.75,        0.75,        0.75,     0.71429,     0.71429,     0.71429,     0.71429,     0.71429,     0.71429,     0.71429,     0.71429,     0.71429,     0.71429,     0.71429,     0.68293,     0.68293,     0.68293,     0.68293,\n",
       "            0.68293,     0.68293,     0.68293,     0.68293,     0.68293,     0.68293,     0.68293,     0.68293,     0.68293,     0.68293,     0.68293,     0.68293,     0.68293,     0.68293,     0.68293,     0.68293,     0.68293,     0.68293,     0.68293,     0.68293,     0.68293,     0.68293,     0.68293,\n",
       "            0.68293,     0.68293,     0.68293,     0.68293,     0.68293,     0.68293,     0.63043,     0.63043,     0.63043,     0.63043,     0.63043,     0.63043,     0.63043,     0.63043,     0.63043,     0.63043,         0.6,         0.6,         0.6,         0.6,         0.6,         0.6,         0.6,\n",
       "                0.6,         0.6,         0.6,         0.6,     0.54237,     0.54237,     0.54237,     0.54237,     0.54237,     0.54237,     0.54237,     0.54237,     0.54237,     0.54237,     0.54237,     0.54237,     0.54237,     0.54237,     0.54237,     0.54237,     0.54237,     0.54237,     0.54237,\n",
       "            0.54237,     0.54237,     0.54237,     0.49254,     0.49254,     0.49254,     0.49254,     0.49254,     0.49254,     0.49254,     0.49254,     0.49254,     0.49254,     0.49254,     0.48571,     0.48571,     0.48571,     0.48571,     0.48571,     0.48571,     0.48571,     0.48571,     0.48571,\n",
       "            0.48571,     0.48571,     0.46053,     0.46053,     0.46053,     0.46053,     0.46053,     0.46053,     0.46053,     0.46053,     0.46053,     0.46053,     0.46053,     0.44444,     0.44444,     0.44444,     0.44444,     0.44444,     0.44444,     0.44444,     0.44444,     0.44444,     0.44444,\n",
       "            0.42851,     0.42781,      0.4271,      0.4264,     0.42569,     0.42499,     0.42428,     0.42358,     0.42287,     0.42217,     0.42146,     0.42076,     0.42005,     0.41935,     0.41864,     0.41794,     0.41723,     0.41653,     0.41582,     0.41512,     0.41441,     0.41371,       0.413,\n",
       "             0.4123,      0.4116,     0.41089,     0.41019,     0.40948,     0.40878,     0.40807,     0.40737,     0.40666,     0.40596,     0.40525,     0.40455,     0.40384,     0.40314,     0.40243,     0.40173,     0.40102,     0.40032,     0.39961,     0.39891,      0.3982,      0.3975,     0.39679,\n",
       "            0.39609,     0.39539,     0.39468,     0.39398,     0.39327,     0.39257,     0.39186,     0.39116,     0.39045,     0.38975,     0.38904,     0.38834,     0.38763,     0.38693,     0.38622,     0.38552,     0.38481,     0.38411,      0.3834,      0.3827,     0.38199,     0.38129,     0.38058,\n",
       "            0.37988,     0.37918,     0.37847,     0.37777,     0.37706,     0.37636,     0.37565,     0.37495,     0.37424,     0.37354,     0.37283,     0.37213,     0.37142,     0.37072,     0.37001,     0.36931,      0.3686,      0.3679,     0.36719,     0.36649,     0.36578,     0.36508,     0.36437,\n",
       "            0.36367,     0.36297,     0.36226,     0.36156,     0.36085,     0.36015,     0.35944,     0.35874,     0.35803,     0.35733,     0.35662,     0.35592,     0.35521,     0.35451,      0.3538,      0.3531,     0.35239,     0.35169,     0.35098,     0.35028,     0.34957,     0.34887,     0.34816,\n",
       "            0.34746,     0.34675,     0.34605,     0.34535,     0.34464,     0.34394,     0.34323,     0.34253,     0.34182,     0.34112,     0.34041,     0.33971,       0.339,      0.3383,     0.33759,     0.33689,     0.33618,     0.33548,     0.33477,     0.33407,     0.33336,     0.33266,     0.33195,\n",
       "            0.33125,     0.33054,     0.32984,     0.32914,     0.32843,     0.32773,     0.32702,     0.32632,     0.32561,     0.32491,      0.3242,      0.3235,     0.32279,     0.32209,     0.32138,     0.32068,     0.31997,     0.31927,     0.31856,     0.31786,     0.31715,     0.31645,     0.31574,\n",
       "            0.31504,     0.31433,     0.31363,     0.31293,     0.31222,     0.31152,     0.31081,     0.31011,      0.3094,      0.3087,     0.30799,     0.30729,     0.30658,     0.30588,     0.30517,     0.30447,     0.30376,     0.30306,     0.30235,     0.30165,     0.30094,     0.30024,     0.29953,\n",
       "            0.29883,     0.29812,     0.29742,     0.29672,     0.29601,     0.29531,      0.2946,      0.2939,     0.29319,     0.29249,     0.29178,     0.29108,     0.29037,     0.28967,     0.28896,     0.28826,     0.28755,     0.28685,     0.28614,     0.28544,     0.28473,     0.28403,     0.28332,\n",
       "            0.28262,     0.28191,     0.28121,      0.2805,      0.2798,      0.2791,     0.27839,     0.27769,     0.27698,     0.27628,     0.27557,     0.27487,     0.27416,     0.27346,     0.27275,     0.27205,     0.27134,     0.27064,     0.26993,     0.26923,     0.26852,     0.26782,     0.26711,\n",
       "            0.26641,      0.2657,       0.265,     0.26429,     0.26359,     0.26289,     0.26218,     0.26148,     0.26077,     0.26007,     0.25936,     0.25866,     0.25795,     0.25725,     0.25654,     0.25584,     0.25513,     0.25443,     0.25372,     0.25302,     0.25231,     0.25161,      0.2509,\n",
       "             0.2502,     0.24949,     0.24879,     0.24808,     0.24738,     0.24668,     0.24597,     0.24527,     0.24456,     0.24386,     0.24315,     0.24245,     0.24174,     0.24104,     0.24033,     0.23963,     0.23892,     0.23822,     0.23751,     0.23681,      0.2361,      0.2354,     0.23469,\n",
       "            0.23399,     0.23328,     0.23258,     0.23187,     0.23117,     0.23047,     0.22976,     0.22906,     0.22835,     0.22765,     0.22694,     0.22624,     0.22553,     0.22483,     0.22412,     0.22342,     0.22271,     0.22201,      0.2213,      0.2206,     0.21989,     0.21919,     0.21848,\n",
       "            0.21778,     0.21707,     0.21637,     0.21566,     0.21496,     0.21426,     0.21355,     0.21285,     0.21214,     0.21144,     0.21073,     0.21003,     0.20932,     0.20862,     0.20791,     0.20721,      0.2065,      0.2058,     0.20509,     0.20439,     0.20368,     0.20298,     0.20227,\n",
       "            0.20157,     0.20086,     0.20016,     0.19945,     0.19875,     0.19804,     0.19734,     0.19664,     0.19593,     0.19523,     0.19452,     0.19382,     0.19311,     0.19241,      0.1917,       0.191,     0.19029,     0.18959,     0.18888,     0.18818,     0.18747,     0.18677,     0.18606,\n",
       "            0.18536,     0.18465,     0.18395,     0.18324,     0.18254,     0.18183,     0.18113,     0.18043,     0.17972,     0.17902,     0.17831,     0.17761,      0.1769,      0.1762,     0.17549,     0.17479,     0.17408,     0.17338,     0.17267,     0.17197,     0.17126,     0.17056,     0.16985,\n",
       "            0.16915,     0.16844,     0.16774,     0.16703,     0.16633,     0.16562,     0.16492,     0.16422,     0.16351,     0.16281,      0.1621,      0.1614,     0.16069,     0.15999,     0.15928,     0.15858,     0.15787,     0.15717,     0.15646,     0.15576,     0.15505,     0.15435,     0.15364,\n",
       "            0.15294,     0.15223,     0.15153,     0.15082,     0.15012,     0.14941,     0.14871,     0.14801,      0.1473,      0.1466,     0.14589,     0.14519,     0.14448,     0.14378,     0.14307,     0.14237,     0.14166,     0.14096,     0.14025,     0.13955,     0.13884,     0.13814,     0.13743,\n",
       "            0.13673,     0.13602,     0.13532,     0.13461,     0.13391,      0.1332,      0.1325,      0.1318,     0.13109,     0.13039,     0.12968,     0.12898,     0.12827,     0.12757,     0.12686,     0.12616,     0.12545,     0.12475,     0.12404,     0.12334,     0.12263,     0.12193,     0.12122,\n",
       "            0.12052,     0.11981,     0.11911,      0.1184,      0.1177,     0.11699,     0.11629,     0.11558,     0.11488,     0.11418,     0.11347,     0.11277,     0.11206,     0.11136,     0.11065,     0.10995,     0.10924,     0.10854,     0.10783,     0.10713,     0.10642,     0.10572,     0.10501,\n",
       "            0.10431,      0.1036,      0.1029,     0.10219,     0.10149,     0.10078,     0.10008,    0.099375,     0.09867,    0.097965,    0.097261,    0.096556,    0.095851,    0.095146,    0.094441,    0.093737,    0.093032,    0.092327,    0.091622,    0.090917,    0.090213,    0.089508,    0.088803,\n",
       "           0.088098,    0.087394,    0.086689,    0.085984,    0.085279,    0.084574,     0.08387,    0.083165,     0.08246,    0.081755,     0.08105,    0.080346,    0.079641,    0.078936,    0.078231,    0.077527,    0.076822,    0.076117,    0.075412,    0.074707,    0.074003,    0.073298,    0.072593,\n",
       "           0.071888,    0.071183,    0.070479,    0.069774,    0.069069,    0.068364,    0.067659,    0.066955,     0.06625,    0.065545,     0.06484,    0.064136,    0.063431,    0.062726,    0.062021,    0.061316,    0.060612,    0.059907,    0.059202,    0.058497,    0.057792,    0.057088,    0.056383,\n",
       "           0.055678,    0.054973,    0.054269,    0.053564,    0.052859,    0.052154,    0.051449,    0.050745,     0.05004,    0.049335,     0.04863,    0.047925,    0.047221,    0.046516,    0.045811,    0.045106,    0.044402,    0.043697,    0.042992,    0.042287,    0.041582,    0.040878,    0.040173,\n",
       "           0.039468,    0.038763,    0.038058,    0.037354,    0.036649,    0.035944,    0.035239,    0.034535,     0.03383,    0.033125,     0.03242,    0.031715,    0.031011,    0.030306,    0.029601,    0.028896,    0.028191,    0.027487,    0.026782,    0.026077,    0.025372,    0.024668,    0.023963,\n",
       "           0.023258,    0.022553,    0.021848,    0.021144,    0.020439,    0.019734,    0.019029,    0.018324,     0.01762,    0.016915,     0.01621,    0.015505,    0.014801,    0.014096,    0.013391,    0.012686,    0.011981,    0.011277,    0.010572,    0.009867,   0.0091622,   0.0084574,   0.0077527,\n",
       "          0.0070479,   0.0063431,   0.0056383,   0.0049335,   0.0042287,   0.0035239,   0.0028191,   0.0021144,   0.0014096,  0.00070479,           0]]), 'Recall', 'Precision'], [array([          0,    0.001001,    0.002002,    0.003003,    0.004004,    0.005005,    0.006006,    0.007007,    0.008008,    0.009009,     0.01001,    0.011011,    0.012012,    0.013013,    0.014014,    0.015015,    0.016016,    0.017017,    0.018018,    0.019019,     0.02002,    0.021021,    0.022022,    0.023023,\n",
       "          0.024024,    0.025025,    0.026026,    0.027027,    0.028028,    0.029029,     0.03003,    0.031031,    0.032032,    0.033033,    0.034034,    0.035035,    0.036036,    0.037037,    0.038038,    0.039039,     0.04004,    0.041041,    0.042042,    0.043043,    0.044044,    0.045045,    0.046046,    0.047047,\n",
       "          0.048048,    0.049049,     0.05005,    0.051051,    0.052052,    0.053053,    0.054054,    0.055055,    0.056056,    0.057057,    0.058058,    0.059059,     0.06006,    0.061061,    0.062062,    0.063063,    0.064064,    0.065065,    0.066066,    0.067067,    0.068068,    0.069069,     0.07007,    0.071071,\n",
       "          0.072072,    0.073073,    0.074074,    0.075075,    0.076076,    0.077077,    0.078078,    0.079079,     0.08008,    0.081081,    0.082082,    0.083083,    0.084084,    0.085085,    0.086086,    0.087087,    0.088088,    0.089089,     0.09009,    0.091091,    0.092092,    0.093093,    0.094094,    0.095095,\n",
       "          0.096096,    0.097097,    0.098098,    0.099099,      0.1001,      0.1011,      0.1021,      0.1031,      0.1041,     0.10511,     0.10611,     0.10711,     0.10811,     0.10911,     0.11011,     0.11111,     0.11211,     0.11311,     0.11411,     0.11512,     0.11612,     0.11712,     0.11812,     0.11912,\n",
       "           0.12012,     0.12112,     0.12212,     0.12312,     0.12412,     0.12513,     0.12613,     0.12713,     0.12813,     0.12913,     0.13013,     0.13113,     0.13213,     0.13313,     0.13413,     0.13514,     0.13614,     0.13714,     0.13814,     0.13914,     0.14014,     0.14114,     0.14214,     0.14314,\n",
       "           0.14414,     0.14515,     0.14615,     0.14715,     0.14815,     0.14915,     0.15015,     0.15115,     0.15215,     0.15315,     0.15415,     0.15516,     0.15616,     0.15716,     0.15816,     0.15916,     0.16016,     0.16116,     0.16216,     0.16316,     0.16416,     0.16517,     0.16617,     0.16717,\n",
       "           0.16817,     0.16917,     0.17017,     0.17117,     0.17217,     0.17317,     0.17417,     0.17518,     0.17618,     0.17718,     0.17818,     0.17918,     0.18018,     0.18118,     0.18218,     0.18318,     0.18418,     0.18519,     0.18619,     0.18719,     0.18819,     0.18919,     0.19019,     0.19119,\n",
       "           0.19219,     0.19319,     0.19419,      0.1952,      0.1962,      0.1972,      0.1982,      0.1992,      0.2002,      0.2012,      0.2022,      0.2032,      0.2042,     0.20521,     0.20621,     0.20721,     0.20821,     0.20921,     0.21021,     0.21121,     0.21221,     0.21321,     0.21421,     0.21522,\n",
       "           0.21622,     0.21722,     0.21822,     0.21922,     0.22022,     0.22122,     0.22222,     0.22322,     0.22422,     0.22523,     0.22623,     0.22723,     0.22823,     0.22923,     0.23023,     0.23123,     0.23223,     0.23323,     0.23423,     0.23524,     0.23624,     0.23724,     0.23824,     0.23924,\n",
       "           0.24024,     0.24124,     0.24224,     0.24324,     0.24424,     0.24525,     0.24625,     0.24725,     0.24825,     0.24925,     0.25025,     0.25125,     0.25225,     0.25325,     0.25425,     0.25526,     0.25626,     0.25726,     0.25826,     0.25926,     0.26026,     0.26126,     0.26226,     0.26326,\n",
       "           0.26426,     0.26527,     0.26627,     0.26727,     0.26827,     0.26927,     0.27027,     0.27127,     0.27227,     0.27327,     0.27427,     0.27528,     0.27628,     0.27728,     0.27828,     0.27928,     0.28028,     0.28128,     0.28228,     0.28328,     0.28428,     0.28529,     0.28629,     0.28729,\n",
       "           0.28829,     0.28929,     0.29029,     0.29129,     0.29229,     0.29329,     0.29429,      0.2953,      0.2963,      0.2973,      0.2983,      0.2993,      0.3003,      0.3013,      0.3023,      0.3033,      0.3043,     0.30531,     0.30631,     0.30731,     0.30831,     0.30931,     0.31031,     0.31131,\n",
       "           0.31231,     0.31331,     0.31431,     0.31532,     0.31632,     0.31732,     0.31832,     0.31932,     0.32032,     0.32132,     0.32232,     0.32332,     0.32432,     0.32533,     0.32633,     0.32733,     0.32833,     0.32933,     0.33033,     0.33133,     0.33233,     0.33333,     0.33433,     0.33534,\n",
       "           0.33634,     0.33734,     0.33834,     0.33934,     0.34034,     0.34134,     0.34234,     0.34334,     0.34434,     0.34535,     0.34635,     0.34735,     0.34835,     0.34935,     0.35035,     0.35135,     0.35235,     0.35335,     0.35435,     0.35536,     0.35636,     0.35736,     0.35836,     0.35936,\n",
       "           0.36036,     0.36136,     0.36236,     0.36336,     0.36436,     0.36537,     0.36637,     0.36737,     0.36837,     0.36937,     0.37037,     0.37137,     0.37237,     0.37337,     0.37437,     0.37538,     0.37638,     0.37738,     0.37838,     0.37938,     0.38038,     0.38138,     0.38238,     0.38338,\n",
       "           0.38438,     0.38539,     0.38639,     0.38739,     0.38839,     0.38939,     0.39039,     0.39139,     0.39239,     0.39339,     0.39439,      0.3954,      0.3964,      0.3974,      0.3984,      0.3994,      0.4004,      0.4014,      0.4024,      0.4034,      0.4044,     0.40541,     0.40641,     0.40741,\n",
       "           0.40841,     0.40941,     0.41041,     0.41141,     0.41241,     0.41341,     0.41441,     0.41542,     0.41642,     0.41742,     0.41842,     0.41942,     0.42042,     0.42142,     0.42242,     0.42342,     0.42442,     0.42543,     0.42643,     0.42743,     0.42843,     0.42943,     0.43043,     0.43143,\n",
       "           0.43243,     0.43343,     0.43443,     0.43544,     0.43644,     0.43744,     0.43844,     0.43944,     0.44044,     0.44144,     0.44244,     0.44344,     0.44444,     0.44545,     0.44645,     0.44745,     0.44845,     0.44945,     0.45045,     0.45145,     0.45245,     0.45345,     0.45445,     0.45546,\n",
       "           0.45646,     0.45746,     0.45846,     0.45946,     0.46046,     0.46146,     0.46246,     0.46346,     0.46446,     0.46547,     0.46647,     0.46747,     0.46847,     0.46947,     0.47047,     0.47147,     0.47247,     0.47347,     0.47447,     0.47548,     0.47648,     0.47748,     0.47848,     0.47948,\n",
       "           0.48048,     0.48148,     0.48248,     0.48348,     0.48448,     0.48549,     0.48649,     0.48749,     0.48849,     0.48949,     0.49049,     0.49149,     0.49249,     0.49349,     0.49449,      0.4955,      0.4965,      0.4975,      0.4985,      0.4995,      0.5005,      0.5015,      0.5025,      0.5035,\n",
       "            0.5045,     0.50551,     0.50651,     0.50751,     0.50851,     0.50951,     0.51051,     0.51151,     0.51251,     0.51351,     0.51451,     0.51552,     0.51652,     0.51752,     0.51852,     0.51952,     0.52052,     0.52152,     0.52252,     0.52352,     0.52452,     0.52553,     0.52653,     0.52753,\n",
       "           0.52853,     0.52953,     0.53053,     0.53153,     0.53253,     0.53353,     0.53453,     0.53554,     0.53654,     0.53754,     0.53854,     0.53954,     0.54054,     0.54154,     0.54254,     0.54354,     0.54454,     0.54555,     0.54655,     0.54755,     0.54855,     0.54955,     0.55055,     0.55155,\n",
       "           0.55255,     0.55355,     0.55455,     0.55556,     0.55656,     0.55756,     0.55856,     0.55956,     0.56056,     0.56156,     0.56256,     0.56356,     0.56456,     0.56557,     0.56657,     0.56757,     0.56857,     0.56957,     0.57057,     0.57157,     0.57257,     0.57357,     0.57457,     0.57558,\n",
       "           0.57658,     0.57758,     0.57858,     0.57958,     0.58058,     0.58158,     0.58258,     0.58358,     0.58458,     0.58559,     0.58659,     0.58759,     0.58859,     0.58959,     0.59059,     0.59159,     0.59259,     0.59359,     0.59459,      0.5956,      0.5966,      0.5976,      0.5986,      0.5996,\n",
       "            0.6006,      0.6016,      0.6026,      0.6036,      0.6046,     0.60561,     0.60661,     0.60761,     0.60861,     0.60961,     0.61061,     0.61161,     0.61261,     0.61361,     0.61461,     0.61562,     0.61662,     0.61762,     0.61862,     0.61962,     0.62062,     0.62162,     0.62262,     0.62362,\n",
       "           0.62462,     0.62563,     0.62663,     0.62763,     0.62863,     0.62963,     0.63063,     0.63163,     0.63263,     0.63363,     0.63463,     0.63564,     0.63664,     0.63764,     0.63864,     0.63964,     0.64064,     0.64164,     0.64264,     0.64364,     0.64464,     0.64565,     0.64665,     0.64765,\n",
       "           0.64865,     0.64965,     0.65065,     0.65165,     0.65265,     0.65365,     0.65465,     0.65566,     0.65666,     0.65766,     0.65866,     0.65966,     0.66066,     0.66166,     0.66266,     0.66366,     0.66466,     0.66567,     0.66667,     0.66767,     0.66867,     0.66967,     0.67067,     0.67167,\n",
       "           0.67267,     0.67367,     0.67467,     0.67568,     0.67668,     0.67768,     0.67868,     0.67968,     0.68068,     0.68168,     0.68268,     0.68368,     0.68468,     0.68569,     0.68669,     0.68769,     0.68869,     0.68969,     0.69069,     0.69169,     0.69269,     0.69369,     0.69469,      0.6957,\n",
       "            0.6967,      0.6977,      0.6987,      0.6997,      0.7007,      0.7017,      0.7027,      0.7037,      0.7047,     0.70571,     0.70671,     0.70771,     0.70871,     0.70971,     0.71071,     0.71171,     0.71271,     0.71371,     0.71471,     0.71572,     0.71672,     0.71772,     0.71872,     0.71972,\n",
       "           0.72072,     0.72172,     0.72272,     0.72372,     0.72472,     0.72573,     0.72673,     0.72773,     0.72873,     0.72973,     0.73073,     0.73173,     0.73273,     0.73373,     0.73473,     0.73574,     0.73674,     0.73774,     0.73874,     0.73974,     0.74074,     0.74174,     0.74274,     0.74374,\n",
       "           0.74474,     0.74575,     0.74675,     0.74775,     0.74875,     0.74975,     0.75075,     0.75175,     0.75275,     0.75375,     0.75475,     0.75576,     0.75676,     0.75776,     0.75876,     0.75976,     0.76076,     0.76176,     0.76276,     0.76376,     0.76476,     0.76577,     0.76677,     0.76777,\n",
       "           0.76877,     0.76977,     0.77077,     0.77177,     0.77277,     0.77377,     0.77477,     0.77578,     0.77678,     0.77778,     0.77878,     0.77978,     0.78078,     0.78178,     0.78278,     0.78378,     0.78478,     0.78579,     0.78679,     0.78779,     0.78879,     0.78979,     0.79079,     0.79179,\n",
       "           0.79279,     0.79379,     0.79479,      0.7958,      0.7968,      0.7978,      0.7988,      0.7998,      0.8008,      0.8018,      0.8028,      0.8038,      0.8048,     0.80581,     0.80681,     0.80781,     0.80881,     0.80981,     0.81081,     0.81181,     0.81281,     0.81381,     0.81481,     0.81582,\n",
       "           0.81682,     0.81782,     0.81882,     0.81982,     0.82082,     0.82182,     0.82282,     0.82382,     0.82482,     0.82583,     0.82683,     0.82783,     0.82883,     0.82983,     0.83083,     0.83183,     0.83283,     0.83383,     0.83483,     0.83584,     0.83684,     0.83784,     0.83884,     0.83984,\n",
       "           0.84084,     0.84184,     0.84284,     0.84384,     0.84484,     0.84585,     0.84685,     0.84785,     0.84885,     0.84985,     0.85085,     0.85185,     0.85285,     0.85385,     0.85485,     0.85586,     0.85686,     0.85786,     0.85886,     0.85986,     0.86086,     0.86186,     0.86286,     0.86386,\n",
       "           0.86486,     0.86587,     0.86687,     0.86787,     0.86887,     0.86987,     0.87087,     0.87187,     0.87287,     0.87387,     0.87487,     0.87588,     0.87688,     0.87788,     0.87888,     0.87988,     0.88088,     0.88188,     0.88288,     0.88388,     0.88488,     0.88589,     0.88689,     0.88789,\n",
       "           0.88889,     0.88989,     0.89089,     0.89189,     0.89289,     0.89389,     0.89489,      0.8959,      0.8969,      0.8979,      0.8989,      0.8999,      0.9009,      0.9019,      0.9029,      0.9039,      0.9049,     0.90591,     0.90691,     0.90791,     0.90891,     0.90991,     0.91091,     0.91191,\n",
       "           0.91291,     0.91391,     0.91491,     0.91592,     0.91692,     0.91792,     0.91892,     0.91992,     0.92092,     0.92192,     0.92292,     0.92392,     0.92492,     0.92593,     0.92693,     0.92793,     0.92893,     0.92993,     0.93093,     0.93193,     0.93293,     0.93393,     0.93493,     0.93594,\n",
       "           0.93694,     0.93794,     0.93894,     0.93994,     0.94094,     0.94194,     0.94294,     0.94394,     0.94494,     0.94595,     0.94695,     0.94795,     0.94895,     0.94995,     0.95095,     0.95195,     0.95295,     0.95395,     0.95495,     0.95596,     0.95696,     0.95796,     0.95896,     0.95996,\n",
       "           0.96096,     0.96196,     0.96296,     0.96396,     0.96496,     0.96597,     0.96697,     0.96797,     0.96897,     0.96997,     0.97097,     0.97197,     0.97297,     0.97397,     0.97497,     0.97598,     0.97698,     0.97798,     0.97898,     0.97998,     0.98098,     0.98198,     0.98298,     0.98398,\n",
       "           0.98498,     0.98599,     0.98699,     0.98799,     0.98899,     0.98999,     0.99099,     0.99199,     0.99299,     0.99399,     0.99499,       0.996,       0.997,       0.998,       0.999,           1]), array([[    0.40909,     0.40909,     0.40909,     0.40909,     0.40909,     0.40909,     0.40909,     0.40909,     0.40909,     0.40909,     0.40909,     0.40909,     0.40909,     0.40909,     0.40909,     0.40909,     0.40909,     0.40909,     0.40909,     0.40909,     0.40909,     0.40909,     0.40909,\n",
       "            0.40909,     0.40909,     0.40909,     0.40909,     0.40909,     0.40909,     0.40909,     0.40909,     0.40909,     0.40909,     0.40909,     0.40909,     0.40909,     0.40909,     0.40909,     0.40909,     0.40909,     0.40909,     0.40909,     0.40909,     0.40909,     0.40909,     0.40909,\n",
       "            0.40909,     0.40909,     0.40909,     0.40909,     0.40909,     0.40909,     0.40909,     0.40909,     0.40909,     0.40909,     0.40909,     0.40909,     0.40909,     0.40909,     0.40909,     0.40909,     0.40909,     0.40909,     0.40909,     0.40909,     0.40909,     0.40909,     0.40909,\n",
       "            0.40909,     0.40909,     0.40909,     0.40909,     0.40909,     0.40909,     0.40909,     0.40909,     0.40909,     0.40909,     0.40909,     0.40909,     0.40909,     0.40909,     0.40909,     0.40909,     0.40909,     0.40909,     0.40909,     0.40909,     0.40909,     0.40909,     0.40909,\n",
       "            0.40909,     0.40909,     0.40909,     0.40909,     0.40909,     0.40909,     0.40909,     0.40909,     0.40909,     0.40909,     0.40909,     0.40909,     0.40909,     0.40909,     0.40909,     0.40909,     0.40909,     0.40909,     0.40909,     0.40909,     0.40909,     0.40909,     0.40909,\n",
       "            0.40909,     0.40909,     0.40909,     0.40909,     0.40909,     0.40909,     0.40909,     0.40909,     0.40909,     0.40909,     0.40909,     0.40909,     0.40909,     0.40909,     0.40909,     0.40909,     0.40909,     0.40909,     0.40909,     0.40909,     0.40909,     0.40909,     0.40909,\n",
       "            0.40909,     0.40909,     0.40909,     0.40909,     0.40909,     0.40909,     0.40909,     0.40909,     0.40909,     0.40909,     0.40909,     0.40909,     0.40909,     0.40909,     0.41076,     0.41293,      0.4142,     0.41494,     0.41567,     0.41522,       0.412,     0.40879,     0.40829,\n",
       "            0.41297,     0.41492,     0.41623,     0.40734,      0.4083,     0.40924,     0.41252,     0.41374,     0.41488,     0.41583,     0.41678,     0.41781,     0.41888,     0.41749,     0.41072,     0.41272,     0.40976,     0.40719,     0.40937,     0.41074,     0.41162,     0.41249,     0.41398,\n",
       "            0.41608,      0.4202,     0.42255,     0.42369,     0.42257,     0.42146,     0.42034,     0.41922,     0.41811,     0.41699,     0.41587,     0.41475,     0.41363,     0.41212,     0.41046,      0.4088,     0.40714,     0.40548,     0.40382,     0.40279,     0.40312,     0.40345,     0.40378,\n",
       "             0.4041,     0.40443,     0.40475,     0.40508,      0.4054,     0.40694,     0.40856,     0.41056,     0.41339,     0.41405,     0.41434,     0.41463,     0.41492,     0.41521,      0.4155,     0.41578,     0.41607,     0.41636,     0.41664,     0.41735,      0.4181,     0.41883,     0.41957,\n",
       "            0.42117,     0.42228,     0.42052,     0.41874,     0.41697,      0.4152,     0.41342,     0.41164,     0.41318,     0.41484,     0.41596,     0.41706,     0.41813,     0.41918,     0.42021,     0.41677,     0.41297,     0.40915,     0.40917,     0.40963,     0.41008,     0.41053,     0.41098,\n",
       "            0.41143,     0.41188,     0.41233,     0.41277,     0.41322,     0.41366,      0.4141,     0.41454,     0.41542,     0.41706,     0.41838,     0.41935,     0.42032,     0.42014,     0.41624,     0.41232,     0.40868,     0.40635,     0.40402,     0.40169,     0.39935,       0.397,     0.38462,\n",
       "            0.38996,     0.39182,     0.39327,     0.39254,     0.39087,      0.3892,     0.38753,     0.38585,     0.38417,     0.38249,       0.381,     0.38152,     0.38205,     0.38256,     0.38308,     0.38359,     0.38415,     0.38494,     0.38572,     0.38649,     0.38669,     0.38468,     0.38266,\n",
       "            0.38064,     0.37862,      0.3766,     0.37457,     0.37464,     0.37556,     0.37646,     0.37634,     0.37424,     0.37213,     0.37001,      0.3679,     0.36578,     0.36365,     0.36229,     0.36094,     0.35959,     0.35823,     0.35687,     0.35551,     0.35415,     0.35279,     0.35143,\n",
       "            0.35006,     0.34759,     0.34506,     0.34252,     0.33998,     0.33743,     0.33497,      0.3326,     0.33023,     0.32785,     0.32547,     0.32308,     0.32109,     0.31943,     0.31775,     0.31608,     0.31441,     0.31273,     0.31105,     0.30936,      0.3077,     0.30808,     0.30846,\n",
       "            0.30883,      0.3092,     0.30957,     0.30994,      0.3103,     0.30561,     0.30012,     0.29758,      0.2942,     0.28984,     0.28547,     0.28337,     0.28374,      0.2841,     0.28447,     0.28483,     0.28518,     0.28553,     0.28585,     0.28615,     0.28644,     0.28673,     0.28702,\n",
       "             0.2873,     0.28758,     0.28786,     0.28813,     0.28687,     0.28362,     0.28037,      0.2771,     0.27382,     0.27299,     0.27337,     0.27375,     0.27413,      0.2745,     0.27486,     0.27522,     0.27211,     0.26889,     0.26566,     0.26241,     0.25928,     0.25984,     0.26039,\n",
       "            0.26092,     0.26144,      0.2607,     0.25884,     0.25698,     0.25511,     0.25324,     0.25137,     0.24949,     0.24761,     0.24573,     0.22751,     0.22357,     0.21961,     0.21564,     0.21165,     0.21163,     0.21172,     0.21182,     0.21191,       0.212,      0.2121,     0.21219,\n",
       "            0.21228,     0.21237,     0.21246,     0.21254,     0.21263,     0.21272,     0.21281,     0.21289,     0.21298,     0.21306,     0.21315,     0.21323,     0.21332,      0.2134,     0.21348,     0.21356,     0.21305,     0.21223,      0.2114,     0.21058,     0.20975,     0.20892,     0.20809,\n",
       "            0.20726,     0.20643,      0.2056,     0.20477,     0.20394,      0.2031,     0.20227,     0.20144,      0.2006,     0.19976,     0.19893,     0.19809,     0.19725,     0.19641,     0.19402,     0.19061,     0.18719,     0.18376,     0.18031,     0.17392,     0.16291,     0.15931,     0.15838,\n",
       "            0.15744,      0.1565,     0.15557,     0.15463,     0.15369,     0.15275,      0.1518,     0.15086,     0.14992,     0.14897,     0.14803,     0.14708,     0.14613,     0.14519,     0.14424,     0.14329,     0.14234,     0.14136,     0.13979,     0.13821,     0.13663,     0.13504,     0.13346,\n",
       "            0.13187,     0.13027,     0.12868,     0.12708,     0.12548,     0.12388,     0.12238,     0.12178,     0.12118,     0.12058,     0.11998,     0.11938,     0.11877,     0.11817,     0.11757,     0.11697,     0.11636,     0.11576,     0.11515,     0.11455,     0.11394,     0.11334,     0.11273,\n",
       "            0.11212,     0.11152,     0.11091,      0.1103,     0.10969,     0.10909,     0.10848,     0.10787,     0.10726,     0.10665,     0.10604,     0.10543,     0.10481,      0.1042,     0.10359,     0.10237,    0.098481,    0.094577,    0.090657,     0.08672,    0.083072,    0.081238,      0.0794,\n",
       "           0.077559,    0.075715,    0.073867,    0.072015,     0.07016,    0.068302,     0.06644,    0.064574,    0.062822,    0.061434,    0.060044,    0.058653,    0.057259,    0.055864,    0.054466,    0.053066,    0.051665,    0.050261,    0.048855,    0.047448,    0.046038,    0.044626,    0.043212,\n",
       "            0.04222,    0.041596,    0.040971,    0.040346,    0.039721,    0.039095,    0.038469,    0.037842,    0.037216,    0.036588,     0.03596,    0.035332,    0.034704,    0.034075,    0.033445,    0.032816,    0.032186,    0.031555,    0.030924,    0.030293,    0.029661,    0.029029,    0.028396,\n",
       "           0.027763,     0.02713,    0.026496,    0.025862,    0.025227,    0.024592,    0.023957,    0.023321,    0.022684,    0.022048,           0,           0,           0,           0,           0,           0,           0,           0,           0,           0,           0,           0,           0,\n",
       "                  0,           0,           0,           0,           0,           0,           0,           0,           0,           0,           0,           0,           0,           0,           0,           0,           0,           0,           0,           0,           0,           0,           0,\n",
       "                  0,           0,           0,           0,           0,           0,           0,           0,           0,           0,           0,           0,           0,           0,           0,           0,           0,           0,           0,           0,           0,           0,           0,\n",
       "                  0,           0,           0,           0,           0,           0,           0,           0,           0,           0,           0,           0,           0,           0,           0,           0,           0,           0,           0,           0,           0,           0,           0,\n",
       "                  0,           0,           0,           0,           0,           0,           0,           0,           0,           0,           0,           0,           0,           0,           0,           0,           0,           0,           0,           0,           0,           0,           0,\n",
       "                  0,           0,           0,           0,           0,           0,           0,           0,           0,           0,           0,           0,           0,           0,           0,           0,           0,           0,           0,           0,           0,           0,           0,\n",
       "                  0,           0,           0,           0,           0,           0,           0,           0,           0,           0,           0,           0,           0,           0,           0,           0,           0,           0,           0,           0,           0,           0,           0,\n",
       "                  0,           0,           0,           0,           0,           0,           0,           0,           0,           0,           0,           0,           0,           0,           0,           0,           0,           0,           0,           0,           0,           0,           0,\n",
       "                  0,           0,           0,           0,           0,           0,           0,           0,           0,           0,           0,           0,           0,           0,           0,           0,           0,           0,           0,           0,           0,           0,           0,\n",
       "                  0,           0,           0,           0,           0,           0,           0,           0,           0,           0,           0,           0,           0,           0,           0,           0,           0,           0,           0,           0,           0,           0,           0,\n",
       "                  0,           0,           0,           0,           0,           0,           0,           0,           0,           0,           0,           0,           0,           0,           0,           0,           0,           0,           0,           0,           0,           0,           0,\n",
       "                  0,           0,           0,           0,           0,           0,           0,           0,           0,           0,           0,           0,           0,           0,           0,           0,           0,           0,           0,           0,           0,           0,           0,\n",
       "                  0,           0,           0,           0,           0,           0,           0,           0,           0,           0,           0,           0,           0,           0,           0,           0,           0,           0,           0,           0,           0,           0,           0,\n",
       "                  0,           0,           0,           0,           0,           0,           0,           0,           0,           0,           0,           0,           0,           0,           0,           0,           0,           0,           0,           0,           0,           0,           0,\n",
       "                  0,           0,           0,           0,           0,           0,           0,           0,           0,           0,           0,           0,           0,           0,           0,           0,           0,           0,           0,           0,           0,           0,           0,\n",
       "                  0,           0,           0,           0,           0,           0,           0,           0,           0,           0,           0,           0,           0,           0,           0,           0,           0,           0,           0,           0,           0,           0,           0,\n",
       "                  0,           0,           0,           0,           0,           0,           0,           0,           0,           0,           0,           0,           0,           0,           0,           0,           0,           0,           0,           0,           0,           0,           0,\n",
       "                  0,           0,           0,           0,           0,           0,           0,           0,           0,           0,           0,           0,           0,           0,           0,           0,           0,           0,           0,           0,           0,           0,           0,\n",
       "                  0,           0,           0,           0,           0,           0,           0,           0,           0,           0,           0]]), 'Confidence', 'F1'], [array([          0,    0.001001,    0.002002,    0.003003,    0.004004,    0.005005,    0.006006,    0.007007,    0.008008,    0.009009,     0.01001,    0.011011,    0.012012,    0.013013,    0.014014,    0.015015,    0.016016,    0.017017,    0.018018,    0.019019,     0.02002,    0.021021,    0.022022,    0.023023,\n",
       "          0.024024,    0.025025,    0.026026,    0.027027,    0.028028,    0.029029,     0.03003,    0.031031,    0.032032,    0.033033,    0.034034,    0.035035,    0.036036,    0.037037,    0.038038,    0.039039,     0.04004,    0.041041,    0.042042,    0.043043,    0.044044,    0.045045,    0.046046,    0.047047,\n",
       "          0.048048,    0.049049,     0.05005,    0.051051,    0.052052,    0.053053,    0.054054,    0.055055,    0.056056,    0.057057,    0.058058,    0.059059,     0.06006,    0.061061,    0.062062,    0.063063,    0.064064,    0.065065,    0.066066,    0.067067,    0.068068,    0.069069,     0.07007,    0.071071,\n",
       "          0.072072,    0.073073,    0.074074,    0.075075,    0.076076,    0.077077,    0.078078,    0.079079,     0.08008,    0.081081,    0.082082,    0.083083,    0.084084,    0.085085,    0.086086,    0.087087,    0.088088,    0.089089,     0.09009,    0.091091,    0.092092,    0.093093,    0.094094,    0.095095,\n",
       "          0.096096,    0.097097,    0.098098,    0.099099,      0.1001,      0.1011,      0.1021,      0.1031,      0.1041,     0.10511,     0.10611,     0.10711,     0.10811,     0.10911,     0.11011,     0.11111,     0.11211,     0.11311,     0.11411,     0.11512,     0.11612,     0.11712,     0.11812,     0.11912,\n",
       "           0.12012,     0.12112,     0.12212,     0.12312,     0.12412,     0.12513,     0.12613,     0.12713,     0.12813,     0.12913,     0.13013,     0.13113,     0.13213,     0.13313,     0.13413,     0.13514,     0.13614,     0.13714,     0.13814,     0.13914,     0.14014,     0.14114,     0.14214,     0.14314,\n",
       "           0.14414,     0.14515,     0.14615,     0.14715,     0.14815,     0.14915,     0.15015,     0.15115,     0.15215,     0.15315,     0.15415,     0.15516,     0.15616,     0.15716,     0.15816,     0.15916,     0.16016,     0.16116,     0.16216,     0.16316,     0.16416,     0.16517,     0.16617,     0.16717,\n",
       "           0.16817,     0.16917,     0.17017,     0.17117,     0.17217,     0.17317,     0.17417,     0.17518,     0.17618,     0.17718,     0.17818,     0.17918,     0.18018,     0.18118,     0.18218,     0.18318,     0.18418,     0.18519,     0.18619,     0.18719,     0.18819,     0.18919,     0.19019,     0.19119,\n",
       "           0.19219,     0.19319,     0.19419,      0.1952,      0.1962,      0.1972,      0.1982,      0.1992,      0.2002,      0.2012,      0.2022,      0.2032,      0.2042,     0.20521,     0.20621,     0.20721,     0.20821,     0.20921,     0.21021,     0.21121,     0.21221,     0.21321,     0.21421,     0.21522,\n",
       "           0.21622,     0.21722,     0.21822,     0.21922,     0.22022,     0.22122,     0.22222,     0.22322,     0.22422,     0.22523,     0.22623,     0.22723,     0.22823,     0.22923,     0.23023,     0.23123,     0.23223,     0.23323,     0.23423,     0.23524,     0.23624,     0.23724,     0.23824,     0.23924,\n",
       "           0.24024,     0.24124,     0.24224,     0.24324,     0.24424,     0.24525,     0.24625,     0.24725,     0.24825,     0.24925,     0.25025,     0.25125,     0.25225,     0.25325,     0.25425,     0.25526,     0.25626,     0.25726,     0.25826,     0.25926,     0.26026,     0.26126,     0.26226,     0.26326,\n",
       "           0.26426,     0.26527,     0.26627,     0.26727,     0.26827,     0.26927,     0.27027,     0.27127,     0.27227,     0.27327,     0.27427,     0.27528,     0.27628,     0.27728,     0.27828,     0.27928,     0.28028,     0.28128,     0.28228,     0.28328,     0.28428,     0.28529,     0.28629,     0.28729,\n",
       "           0.28829,     0.28929,     0.29029,     0.29129,     0.29229,     0.29329,     0.29429,      0.2953,      0.2963,      0.2973,      0.2983,      0.2993,      0.3003,      0.3013,      0.3023,      0.3033,      0.3043,     0.30531,     0.30631,     0.30731,     0.30831,     0.30931,     0.31031,     0.31131,\n",
       "           0.31231,     0.31331,     0.31431,     0.31532,     0.31632,     0.31732,     0.31832,     0.31932,     0.32032,     0.32132,     0.32232,     0.32332,     0.32432,     0.32533,     0.32633,     0.32733,     0.32833,     0.32933,     0.33033,     0.33133,     0.33233,     0.33333,     0.33433,     0.33534,\n",
       "           0.33634,     0.33734,     0.33834,     0.33934,     0.34034,     0.34134,     0.34234,     0.34334,     0.34434,     0.34535,     0.34635,     0.34735,     0.34835,     0.34935,     0.35035,     0.35135,     0.35235,     0.35335,     0.35435,     0.35536,     0.35636,     0.35736,     0.35836,     0.35936,\n",
       "           0.36036,     0.36136,     0.36236,     0.36336,     0.36436,     0.36537,     0.36637,     0.36737,     0.36837,     0.36937,     0.37037,     0.37137,     0.37237,     0.37337,     0.37437,     0.37538,     0.37638,     0.37738,     0.37838,     0.37938,     0.38038,     0.38138,     0.38238,     0.38338,\n",
       "           0.38438,     0.38539,     0.38639,     0.38739,     0.38839,     0.38939,     0.39039,     0.39139,     0.39239,     0.39339,     0.39439,      0.3954,      0.3964,      0.3974,      0.3984,      0.3994,      0.4004,      0.4014,      0.4024,      0.4034,      0.4044,     0.40541,     0.40641,     0.40741,\n",
       "           0.40841,     0.40941,     0.41041,     0.41141,     0.41241,     0.41341,     0.41441,     0.41542,     0.41642,     0.41742,     0.41842,     0.41942,     0.42042,     0.42142,     0.42242,     0.42342,     0.42442,     0.42543,     0.42643,     0.42743,     0.42843,     0.42943,     0.43043,     0.43143,\n",
       "           0.43243,     0.43343,     0.43443,     0.43544,     0.43644,     0.43744,     0.43844,     0.43944,     0.44044,     0.44144,     0.44244,     0.44344,     0.44444,     0.44545,     0.44645,     0.44745,     0.44845,     0.44945,     0.45045,     0.45145,     0.45245,     0.45345,     0.45445,     0.45546,\n",
       "           0.45646,     0.45746,     0.45846,     0.45946,     0.46046,     0.46146,     0.46246,     0.46346,     0.46446,     0.46547,     0.46647,     0.46747,     0.46847,     0.46947,     0.47047,     0.47147,     0.47247,     0.47347,     0.47447,     0.47548,     0.47648,     0.47748,     0.47848,     0.47948,\n",
       "           0.48048,     0.48148,     0.48248,     0.48348,     0.48448,     0.48549,     0.48649,     0.48749,     0.48849,     0.48949,     0.49049,     0.49149,     0.49249,     0.49349,     0.49449,      0.4955,      0.4965,      0.4975,      0.4985,      0.4995,      0.5005,      0.5015,      0.5025,      0.5035,\n",
       "            0.5045,     0.50551,     0.50651,     0.50751,     0.50851,     0.50951,     0.51051,     0.51151,     0.51251,     0.51351,     0.51451,     0.51552,     0.51652,     0.51752,     0.51852,     0.51952,     0.52052,     0.52152,     0.52252,     0.52352,     0.52452,     0.52553,     0.52653,     0.52753,\n",
       "           0.52853,     0.52953,     0.53053,     0.53153,     0.53253,     0.53353,     0.53453,     0.53554,     0.53654,     0.53754,     0.53854,     0.53954,     0.54054,     0.54154,     0.54254,     0.54354,     0.54454,     0.54555,     0.54655,     0.54755,     0.54855,     0.54955,     0.55055,     0.55155,\n",
       "           0.55255,     0.55355,     0.55455,     0.55556,     0.55656,     0.55756,     0.55856,     0.55956,     0.56056,     0.56156,     0.56256,     0.56356,     0.56456,     0.56557,     0.56657,     0.56757,     0.56857,     0.56957,     0.57057,     0.57157,     0.57257,     0.57357,     0.57457,     0.57558,\n",
       "           0.57658,     0.57758,     0.57858,     0.57958,     0.58058,     0.58158,     0.58258,     0.58358,     0.58458,     0.58559,     0.58659,     0.58759,     0.58859,     0.58959,     0.59059,     0.59159,     0.59259,     0.59359,     0.59459,      0.5956,      0.5966,      0.5976,      0.5986,      0.5996,\n",
       "            0.6006,      0.6016,      0.6026,      0.6036,      0.6046,     0.60561,     0.60661,     0.60761,     0.60861,     0.60961,     0.61061,     0.61161,     0.61261,     0.61361,     0.61461,     0.61562,     0.61662,     0.61762,     0.61862,     0.61962,     0.62062,     0.62162,     0.62262,     0.62362,\n",
       "           0.62462,     0.62563,     0.62663,     0.62763,     0.62863,     0.62963,     0.63063,     0.63163,     0.63263,     0.63363,     0.63463,     0.63564,     0.63664,     0.63764,     0.63864,     0.63964,     0.64064,     0.64164,     0.64264,     0.64364,     0.64464,     0.64565,     0.64665,     0.64765,\n",
       "           0.64865,     0.64965,     0.65065,     0.65165,     0.65265,     0.65365,     0.65465,     0.65566,     0.65666,     0.65766,     0.65866,     0.65966,     0.66066,     0.66166,     0.66266,     0.66366,     0.66466,     0.66567,     0.66667,     0.66767,     0.66867,     0.66967,     0.67067,     0.67167,\n",
       "           0.67267,     0.67367,     0.67467,     0.67568,     0.67668,     0.67768,     0.67868,     0.67968,     0.68068,     0.68168,     0.68268,     0.68368,     0.68468,     0.68569,     0.68669,     0.68769,     0.68869,     0.68969,     0.69069,     0.69169,     0.69269,     0.69369,     0.69469,      0.6957,\n",
       "            0.6967,      0.6977,      0.6987,      0.6997,      0.7007,      0.7017,      0.7027,      0.7037,      0.7047,     0.70571,     0.70671,     0.70771,     0.70871,     0.70971,     0.71071,     0.71171,     0.71271,     0.71371,     0.71471,     0.71572,     0.71672,     0.71772,     0.71872,     0.71972,\n",
       "           0.72072,     0.72172,     0.72272,     0.72372,     0.72472,     0.72573,     0.72673,     0.72773,     0.72873,     0.72973,     0.73073,     0.73173,     0.73273,     0.73373,     0.73473,     0.73574,     0.73674,     0.73774,     0.73874,     0.73974,     0.74074,     0.74174,     0.74274,     0.74374,\n",
       "           0.74474,     0.74575,     0.74675,     0.74775,     0.74875,     0.74975,     0.75075,     0.75175,     0.75275,     0.75375,     0.75475,     0.75576,     0.75676,     0.75776,     0.75876,     0.75976,     0.76076,     0.76176,     0.76276,     0.76376,     0.76476,     0.76577,     0.76677,     0.76777,\n",
       "           0.76877,     0.76977,     0.77077,     0.77177,     0.77277,     0.77377,     0.77477,     0.77578,     0.77678,     0.77778,     0.77878,     0.77978,     0.78078,     0.78178,     0.78278,     0.78378,     0.78478,     0.78579,     0.78679,     0.78779,     0.78879,     0.78979,     0.79079,     0.79179,\n",
       "           0.79279,     0.79379,     0.79479,      0.7958,      0.7968,      0.7978,      0.7988,      0.7998,      0.8008,      0.8018,      0.8028,      0.8038,      0.8048,     0.80581,     0.80681,     0.80781,     0.80881,     0.80981,     0.81081,     0.81181,     0.81281,     0.81381,     0.81481,     0.81582,\n",
       "           0.81682,     0.81782,     0.81882,     0.81982,     0.82082,     0.82182,     0.82282,     0.82382,     0.82482,     0.82583,     0.82683,     0.82783,     0.82883,     0.82983,     0.83083,     0.83183,     0.83283,     0.83383,     0.83483,     0.83584,     0.83684,     0.83784,     0.83884,     0.83984,\n",
       "           0.84084,     0.84184,     0.84284,     0.84384,     0.84484,     0.84585,     0.84685,     0.84785,     0.84885,     0.84985,     0.85085,     0.85185,     0.85285,     0.85385,     0.85485,     0.85586,     0.85686,     0.85786,     0.85886,     0.85986,     0.86086,     0.86186,     0.86286,     0.86386,\n",
       "           0.86486,     0.86587,     0.86687,     0.86787,     0.86887,     0.86987,     0.87087,     0.87187,     0.87287,     0.87387,     0.87487,     0.87588,     0.87688,     0.87788,     0.87888,     0.87988,     0.88088,     0.88188,     0.88288,     0.88388,     0.88488,     0.88589,     0.88689,     0.88789,\n",
       "           0.88889,     0.88989,     0.89089,     0.89189,     0.89289,     0.89389,     0.89489,      0.8959,      0.8969,      0.8979,      0.8989,      0.8999,      0.9009,      0.9019,      0.9029,      0.9039,      0.9049,     0.90591,     0.90691,     0.90791,     0.90891,     0.90991,     0.91091,     0.91191,\n",
       "           0.91291,     0.91391,     0.91491,     0.91592,     0.91692,     0.91792,     0.91892,     0.91992,     0.92092,     0.92192,     0.92292,     0.92392,     0.92492,     0.92593,     0.92693,     0.92793,     0.92893,     0.92993,     0.93093,     0.93193,     0.93293,     0.93393,     0.93493,     0.93594,\n",
       "           0.93694,     0.93794,     0.93894,     0.93994,     0.94094,     0.94194,     0.94294,     0.94394,     0.94494,     0.94595,     0.94695,     0.94795,     0.94895,     0.94995,     0.95095,     0.95195,     0.95295,     0.95395,     0.95495,     0.95596,     0.95696,     0.95796,     0.95896,     0.95996,\n",
       "           0.96096,     0.96196,     0.96296,     0.96396,     0.96496,     0.96597,     0.96697,     0.96797,     0.96897,     0.96997,     0.97097,     0.97197,     0.97297,     0.97397,     0.97497,     0.97598,     0.97698,     0.97798,     0.97898,     0.97998,     0.98098,     0.98198,     0.98298,     0.98398,\n",
       "           0.98498,     0.98599,     0.98699,     0.98799,     0.98899,     0.98999,     0.99099,     0.99199,     0.99299,     0.99399,     0.99499,       0.996,       0.997,       0.998,       0.999,           1]), array([[    0.42857,     0.42857,     0.42857,     0.42857,     0.42857,     0.42857,     0.42857,     0.42857,     0.42857,     0.42857,     0.42857,     0.42857,     0.42857,     0.42857,     0.42857,     0.42857,     0.42857,     0.42857,     0.42857,     0.42857,     0.42857,     0.42857,     0.42857,\n",
       "            0.42857,     0.42857,     0.42857,     0.42857,     0.42857,     0.42857,     0.42857,     0.42857,     0.42857,     0.42857,     0.42857,     0.42857,     0.42857,     0.42857,     0.42857,     0.42857,     0.42857,     0.42857,     0.42857,     0.42857,     0.42857,     0.42857,     0.42857,\n",
       "            0.42857,     0.42857,     0.42857,     0.42857,     0.42857,     0.42857,     0.42857,     0.42857,     0.42857,     0.42857,     0.42857,     0.42857,     0.42857,     0.42857,     0.42857,     0.42857,     0.42857,     0.42857,     0.42857,     0.42857,     0.42857,     0.42857,     0.42857,\n",
       "            0.42857,     0.42857,     0.42857,     0.42857,     0.42857,     0.42857,     0.42857,     0.42857,     0.42857,     0.42857,     0.42857,     0.42857,     0.42857,     0.42857,     0.42857,     0.42857,     0.42857,     0.42857,     0.42857,     0.42857,     0.42857,     0.42857,     0.42857,\n",
       "            0.42857,     0.42857,     0.42857,     0.42857,     0.42857,     0.42857,     0.42857,     0.42857,     0.42857,     0.42857,     0.42857,     0.42857,     0.42857,     0.42857,     0.42857,     0.42857,     0.42857,     0.42857,     0.42857,     0.42857,     0.42857,     0.42857,     0.42857,\n",
       "            0.42857,     0.42857,     0.42857,     0.42857,     0.42857,     0.42857,     0.42857,     0.42857,     0.42857,     0.42857,     0.42857,     0.42857,     0.42857,     0.42857,     0.42857,     0.42857,     0.42857,     0.42857,     0.42857,     0.42857,     0.42857,     0.42857,     0.42857,\n",
       "            0.42857,     0.42857,     0.42857,     0.42857,     0.42857,     0.42857,     0.42857,     0.42857,     0.42857,     0.42857,     0.42857,     0.42857,     0.42857,     0.42857,     0.43225,     0.43708,     0.43994,     0.44161,     0.44328,     0.44372,     0.44129,     0.43886,     0.44054,\n",
       "            0.45159,     0.45628,     0.45946,     0.45372,     0.45609,     0.45847,     0.46678,      0.4699,     0.47286,     0.47535,     0.47783,     0.48053,     0.48337,     0.48399,     0.48038,     0.48591,     0.48845,       0.491,     0.49738,     0.50144,     0.50406,     0.50668,     0.51122,\n",
       "            0.51767,     0.53061,     0.53818,     0.54226,     0.54142,     0.54058,     0.53974,      0.5389,     0.53806,     0.53722,     0.53638,     0.53554,      0.5347,     0.53355,     0.53227,       0.531,     0.52973,     0.52845,     0.52718,     0.52668,     0.52781,     0.52893,     0.53006,\n",
       "            0.53119,     0.53232,     0.53345,     0.53458,     0.53571,      0.5411,     0.54689,     0.55411,     0.56453,     0.56699,     0.56808,     0.56917,     0.57027,     0.57136,     0.57246,     0.57355,     0.57465,     0.57574,     0.57683,     0.57956,     0.58244,     0.58531,     0.58818,\n",
       "            0.59451,     0.59982,     0.59852,     0.59723,     0.59593,     0.59464,     0.59334,     0.59205,      0.5995,     0.60653,     0.61133,     0.61614,     0.62081,     0.62545,     0.63009,     0.62792,     0.62521,      0.6225,     0.62413,     0.62626,     0.62839,     0.63052,     0.63264,\n",
       "            0.63477,     0.63691,     0.63905,      0.6412,     0.64335,      0.6455,     0.64765,      0.6498,     0.65415,     0.66235,     0.66904,     0.67406,     0.67909,     0.68232,     0.67973,     0.67714,     0.67472,     0.67312,     0.67151,     0.66991,     0.66831,      0.6667,      0.6579,\n",
       "            0.69023,     0.70207,     0.71143,     0.71352,     0.71241,     0.71131,     0.71021,      0.7091,       0.708,     0.70689,     0.70619,     0.70982,     0.71345,     0.71708,     0.72072,     0.72435,     0.72838,     0.73408,     0.73977,     0.74547,     0.74975,      0.7485,     0.74726,\n",
       "            0.74602,     0.74478,     0.74354,     0.74229,     0.74714,     0.75447,     0.76179,     0.76624,     0.76497,      0.7637,     0.76244,     0.76117,      0.7599,     0.75863,     0.75777,     0.75691,     0.75605,     0.75519,     0.75433,     0.75347,     0.75261,     0.75176,      0.7509,\n",
       "            0.75004,     0.74838,     0.74669,     0.74499,      0.7433,      0.7416,     0.73992,     0.73823,     0.73655,     0.73487,     0.73319,      0.7315,     0.73006,      0.7288,     0.72754,     0.72628,     0.72503,     0.72377,     0.72251,     0.72125,     0.72003,     0.72423,     0.72843,\n",
       "            0.73264,     0.73684,     0.74104,     0.74524,     0.74944,     0.74648,     0.74243,     0.76387,      0.7698,     0.76667,     0.76353,     0.76451,     0.76995,     0.77538,     0.78082,     0.78625,     0.79169,     0.79712,     0.80219,     0.80686,     0.81152,     0.81618,     0.82084,\n",
       "             0.8255,     0.83016,     0.83482,     0.83948,      0.8413,     0.83946,     0.83762,     0.83578,     0.83395,     0.83821,     0.84553,     0.85285,     0.86017,     0.86749,     0.87481,     0.88213,     0.88091,     0.87942,     0.87793,     0.87644,      0.8754,     0.88836,     0.90133,\n",
       "            0.91429,     0.92726,     0.93304,      0.9325,     0.93196,     0.93142,     0.93087,     0.93033,     0.92979,     0.92924,      0.9287,     0.92267,     0.92118,     0.91969,      0.9182,     0.91671,     0.92014,     0.92371,     0.92729,     0.93086,     0.93443,     0.93801,     0.94158,\n",
       "            0.94515,     0.94873,      0.9523,     0.95588,     0.95945,     0.96302,      0.9666,     0.97017,     0.97374,     0.97732,     0.98089,     0.98446,     0.98804,     0.99161,     0.99518,     0.99876,           1,           1,           1,           1,           1,           1,           1,\n",
       "                  1,           1,           1,           1,           1,           1,           1,           1,           1,           1,           1,           1,           1,           1,           1,           1,           1,           1,           1,           1,           1,           1,           1,\n",
       "                  1,           1,           1,           1,           1,           1,           1,           1,           1,           1,           1,           1,           1,           1,           1,           1,           1,           1,           1,           1,           1,           1,           1,\n",
       "                  1,           1,           1,           1,           1,           1,           1,           1,           1,           1,           1,           1,           1,           1,           1,           1,           1,           1,           1,           1,           1,           1,           1,\n",
       "                  1,           1,           1,           1,           1,           1,           1,           1,           1,           1,           1,           1,           1,           1,           1,           1,           1,           1,           1,           1,           1,           1,           1,\n",
       "                  1,           1,           1,           1,           1,           1,           1,           1,           1,           1,           1,           1,           1,           1,           1,           1,           1,           1,           1,           1,           1,           1,           1,\n",
       "                  1,           1,           1,           1,           1,           1,           1,           1,           1,           1,           1,           1,           1,           1,           1,           1,           1,           1,           1,           1,           1,           1,           1,\n",
       "                  1,           1,           1,           1,           1,           1,           1,           1,           1,           1,           1,           1,           1,           1,           1,           1,           1,           1,           1,           1,           1,           1,           1,\n",
       "                  1,           1,           1,           1,           1,           1,           1,           1,           1,           1,           1,           1,           1,           1,           1,           1,           1,           1,           1,           1,           1,           1,           1,\n",
       "                  1,           1,           1,           1,           1,           1,           1,           1,           1,           1,           1,           1,           1,           1,           1,           1,           1,           1,           1,           1,           1,           1,           1,\n",
       "                  1,           1,           1,           1,           1,           1,           1,           1,           1,           1,           1,           1,           1,           1,           1,           1,           1,           1,           1,           1,           1,           1,           1,\n",
       "                  1,           1,           1,           1,           1,           1,           1,           1,           1,           1,           1,           1,           1,           1,           1,           1,           1,           1,           1,           1,           1,           1,           1,\n",
       "                  1,           1,           1,           1,           1,           1,           1,           1,           1,           1,           1,           1,           1,           1,           1,           1,           1,           1,           1,           1,           1,           1,           1,\n",
       "                  1,           1,           1,           1,           1,           1,           1,           1,           1,           1,           1,           1,           1,           1,           1,           1,           1,           1,           1,           1,           1,           1,           1,\n",
       "                  1,           1,           1,           1,           1,           1,           1,           1,           1,           1,           1,           1,           1,           1,           1,           1,           1,           1,           1,           1,           1,           1,           1,\n",
       "                  1,           1,           1,           1,           1,           1,           1,           1,           1,           1,           1,           1,           1,           1,           1,           1,           1,           1,           1,           1,           1,           1,           1,\n",
       "                  1,           1,           1,           1,           1,           1,           1,           1,           1,           1,           1,           1,           1,           1,           1,           1,           1,           1,           1,           1,           1,           1,           1,\n",
       "                  1,           1,           1,           1,           1,           1,           1,           1,           1,           1,           1,           1,           1,           1,           1,           1,           1,           1,           1,           1,           1,           1,           1,\n",
       "                  1,           1,           1,           1,           1,           1,           1,           1,           1,           1,           1,           1,           1,           1,           1,           1,           1,           1,           1,           1,           1,           1,           1,\n",
       "                  1,           1,           1,           1,           1,           1,           1,           1,           1,           1,           1,           1,           1,           1,           1,           1,           1,           1,           1,           1,           1,           1,           1,\n",
       "                  1,           1,           1,           1,           1,           1,           1,           1,           1,           1,           1,           1,           1,           1,           1,           1,           1,           1,           1,           1,           1,           1,           1,\n",
       "                  1,           1,           1,           1,           1,           1,           1,           1,           1,           1,           1,           1,           1,           1,           1,           1,           1,           1,           1,           1,           1,           1,           1,\n",
       "                  1,           1,           1,           1,           1,           1,           1,           1,           1,           1,           1,           1,           1,           1,           1,           1,           1,           1,           1,           1,           1,           1,           1,\n",
       "                  1,           1,           1,           1,           1,           1,           1,           1,           1,           1,           1,           1,           1,           1,           1,           1,           1,           1,           1,           1,           1,           1,           1,\n",
       "                  1,           1,           1,           1,           1,           1,           1,           1,           1,           1,           1,           1,           1,           1,           1,           1,           1,           1,           1,           1,           1,           1,           1,\n",
       "                  1,           1,           1,           1,           1,           1,           1,           1,           1,           1,           1]]), 'Confidence', 'Precision'], [array([          0,    0.001001,    0.002002,    0.003003,    0.004004,    0.005005,    0.006006,    0.007007,    0.008008,    0.009009,     0.01001,    0.011011,    0.012012,    0.013013,    0.014014,    0.015015,    0.016016,    0.017017,    0.018018,    0.019019,     0.02002,    0.021021,    0.022022,    0.023023,\n",
       "          0.024024,    0.025025,    0.026026,    0.027027,    0.028028,    0.029029,     0.03003,    0.031031,    0.032032,    0.033033,    0.034034,    0.035035,    0.036036,    0.037037,    0.038038,    0.039039,     0.04004,    0.041041,    0.042042,    0.043043,    0.044044,    0.045045,    0.046046,    0.047047,\n",
       "          0.048048,    0.049049,     0.05005,    0.051051,    0.052052,    0.053053,    0.054054,    0.055055,    0.056056,    0.057057,    0.058058,    0.059059,     0.06006,    0.061061,    0.062062,    0.063063,    0.064064,    0.065065,    0.066066,    0.067067,    0.068068,    0.069069,     0.07007,    0.071071,\n",
       "          0.072072,    0.073073,    0.074074,    0.075075,    0.076076,    0.077077,    0.078078,    0.079079,     0.08008,    0.081081,    0.082082,    0.083083,    0.084084,    0.085085,    0.086086,    0.087087,    0.088088,    0.089089,     0.09009,    0.091091,    0.092092,    0.093093,    0.094094,    0.095095,\n",
       "          0.096096,    0.097097,    0.098098,    0.099099,      0.1001,      0.1011,      0.1021,      0.1031,      0.1041,     0.10511,     0.10611,     0.10711,     0.10811,     0.10911,     0.11011,     0.11111,     0.11211,     0.11311,     0.11411,     0.11512,     0.11612,     0.11712,     0.11812,     0.11912,\n",
       "           0.12012,     0.12112,     0.12212,     0.12312,     0.12412,     0.12513,     0.12613,     0.12713,     0.12813,     0.12913,     0.13013,     0.13113,     0.13213,     0.13313,     0.13413,     0.13514,     0.13614,     0.13714,     0.13814,     0.13914,     0.14014,     0.14114,     0.14214,     0.14314,\n",
       "           0.14414,     0.14515,     0.14615,     0.14715,     0.14815,     0.14915,     0.15015,     0.15115,     0.15215,     0.15315,     0.15415,     0.15516,     0.15616,     0.15716,     0.15816,     0.15916,     0.16016,     0.16116,     0.16216,     0.16316,     0.16416,     0.16517,     0.16617,     0.16717,\n",
       "           0.16817,     0.16917,     0.17017,     0.17117,     0.17217,     0.17317,     0.17417,     0.17518,     0.17618,     0.17718,     0.17818,     0.17918,     0.18018,     0.18118,     0.18218,     0.18318,     0.18418,     0.18519,     0.18619,     0.18719,     0.18819,     0.18919,     0.19019,     0.19119,\n",
       "           0.19219,     0.19319,     0.19419,      0.1952,      0.1962,      0.1972,      0.1982,      0.1992,      0.2002,      0.2012,      0.2022,      0.2032,      0.2042,     0.20521,     0.20621,     0.20721,     0.20821,     0.20921,     0.21021,     0.21121,     0.21221,     0.21321,     0.21421,     0.21522,\n",
       "           0.21622,     0.21722,     0.21822,     0.21922,     0.22022,     0.22122,     0.22222,     0.22322,     0.22422,     0.22523,     0.22623,     0.22723,     0.22823,     0.22923,     0.23023,     0.23123,     0.23223,     0.23323,     0.23423,     0.23524,     0.23624,     0.23724,     0.23824,     0.23924,\n",
       "           0.24024,     0.24124,     0.24224,     0.24324,     0.24424,     0.24525,     0.24625,     0.24725,     0.24825,     0.24925,     0.25025,     0.25125,     0.25225,     0.25325,     0.25425,     0.25526,     0.25626,     0.25726,     0.25826,     0.25926,     0.26026,     0.26126,     0.26226,     0.26326,\n",
       "           0.26426,     0.26527,     0.26627,     0.26727,     0.26827,     0.26927,     0.27027,     0.27127,     0.27227,     0.27327,     0.27427,     0.27528,     0.27628,     0.27728,     0.27828,     0.27928,     0.28028,     0.28128,     0.28228,     0.28328,     0.28428,     0.28529,     0.28629,     0.28729,\n",
       "           0.28829,     0.28929,     0.29029,     0.29129,     0.29229,     0.29329,     0.29429,      0.2953,      0.2963,      0.2973,      0.2983,      0.2993,      0.3003,      0.3013,      0.3023,      0.3033,      0.3043,     0.30531,     0.30631,     0.30731,     0.30831,     0.30931,     0.31031,     0.31131,\n",
       "           0.31231,     0.31331,     0.31431,     0.31532,     0.31632,     0.31732,     0.31832,     0.31932,     0.32032,     0.32132,     0.32232,     0.32332,     0.32432,     0.32533,     0.32633,     0.32733,     0.32833,     0.32933,     0.33033,     0.33133,     0.33233,     0.33333,     0.33433,     0.33534,\n",
       "           0.33634,     0.33734,     0.33834,     0.33934,     0.34034,     0.34134,     0.34234,     0.34334,     0.34434,     0.34535,     0.34635,     0.34735,     0.34835,     0.34935,     0.35035,     0.35135,     0.35235,     0.35335,     0.35435,     0.35536,     0.35636,     0.35736,     0.35836,     0.35936,\n",
       "           0.36036,     0.36136,     0.36236,     0.36336,     0.36436,     0.36537,     0.36637,     0.36737,     0.36837,     0.36937,     0.37037,     0.37137,     0.37237,     0.37337,     0.37437,     0.37538,     0.37638,     0.37738,     0.37838,     0.37938,     0.38038,     0.38138,     0.38238,     0.38338,\n",
       "           0.38438,     0.38539,     0.38639,     0.38739,     0.38839,     0.38939,     0.39039,     0.39139,     0.39239,     0.39339,     0.39439,      0.3954,      0.3964,      0.3974,      0.3984,      0.3994,      0.4004,      0.4014,      0.4024,      0.4034,      0.4044,     0.40541,     0.40641,     0.40741,\n",
       "           0.40841,     0.40941,     0.41041,     0.41141,     0.41241,     0.41341,     0.41441,     0.41542,     0.41642,     0.41742,     0.41842,     0.41942,     0.42042,     0.42142,     0.42242,     0.42342,     0.42442,     0.42543,     0.42643,     0.42743,     0.42843,     0.42943,     0.43043,     0.43143,\n",
       "           0.43243,     0.43343,     0.43443,     0.43544,     0.43644,     0.43744,     0.43844,     0.43944,     0.44044,     0.44144,     0.44244,     0.44344,     0.44444,     0.44545,     0.44645,     0.44745,     0.44845,     0.44945,     0.45045,     0.45145,     0.45245,     0.45345,     0.45445,     0.45546,\n",
       "           0.45646,     0.45746,     0.45846,     0.45946,     0.46046,     0.46146,     0.46246,     0.46346,     0.46446,     0.46547,     0.46647,     0.46747,     0.46847,     0.46947,     0.47047,     0.47147,     0.47247,     0.47347,     0.47447,     0.47548,     0.47648,     0.47748,     0.47848,     0.47948,\n",
       "           0.48048,     0.48148,     0.48248,     0.48348,     0.48448,     0.48549,     0.48649,     0.48749,     0.48849,     0.48949,     0.49049,     0.49149,     0.49249,     0.49349,     0.49449,      0.4955,      0.4965,      0.4975,      0.4985,      0.4995,      0.5005,      0.5015,      0.5025,      0.5035,\n",
       "            0.5045,     0.50551,     0.50651,     0.50751,     0.50851,     0.50951,     0.51051,     0.51151,     0.51251,     0.51351,     0.51451,     0.51552,     0.51652,     0.51752,     0.51852,     0.51952,     0.52052,     0.52152,     0.52252,     0.52352,     0.52452,     0.52553,     0.52653,     0.52753,\n",
       "           0.52853,     0.52953,     0.53053,     0.53153,     0.53253,     0.53353,     0.53453,     0.53554,     0.53654,     0.53754,     0.53854,     0.53954,     0.54054,     0.54154,     0.54254,     0.54354,     0.54454,     0.54555,     0.54655,     0.54755,     0.54855,     0.54955,     0.55055,     0.55155,\n",
       "           0.55255,     0.55355,     0.55455,     0.55556,     0.55656,     0.55756,     0.55856,     0.55956,     0.56056,     0.56156,     0.56256,     0.56356,     0.56456,     0.56557,     0.56657,     0.56757,     0.56857,     0.56957,     0.57057,     0.57157,     0.57257,     0.57357,     0.57457,     0.57558,\n",
       "           0.57658,     0.57758,     0.57858,     0.57958,     0.58058,     0.58158,     0.58258,     0.58358,     0.58458,     0.58559,     0.58659,     0.58759,     0.58859,     0.58959,     0.59059,     0.59159,     0.59259,     0.59359,     0.59459,      0.5956,      0.5966,      0.5976,      0.5986,      0.5996,\n",
       "            0.6006,      0.6016,      0.6026,      0.6036,      0.6046,     0.60561,     0.60661,     0.60761,     0.60861,     0.60961,     0.61061,     0.61161,     0.61261,     0.61361,     0.61461,     0.61562,     0.61662,     0.61762,     0.61862,     0.61962,     0.62062,     0.62162,     0.62262,     0.62362,\n",
       "           0.62462,     0.62563,     0.62663,     0.62763,     0.62863,     0.62963,     0.63063,     0.63163,     0.63263,     0.63363,     0.63463,     0.63564,     0.63664,     0.63764,     0.63864,     0.63964,     0.64064,     0.64164,     0.64264,     0.64364,     0.64464,     0.64565,     0.64665,     0.64765,\n",
       "           0.64865,     0.64965,     0.65065,     0.65165,     0.65265,     0.65365,     0.65465,     0.65566,     0.65666,     0.65766,     0.65866,     0.65966,     0.66066,     0.66166,     0.66266,     0.66366,     0.66466,     0.66567,     0.66667,     0.66767,     0.66867,     0.66967,     0.67067,     0.67167,\n",
       "           0.67267,     0.67367,     0.67467,     0.67568,     0.67668,     0.67768,     0.67868,     0.67968,     0.68068,     0.68168,     0.68268,     0.68368,     0.68468,     0.68569,     0.68669,     0.68769,     0.68869,     0.68969,     0.69069,     0.69169,     0.69269,     0.69369,     0.69469,      0.6957,\n",
       "            0.6967,      0.6977,      0.6987,      0.6997,      0.7007,      0.7017,      0.7027,      0.7037,      0.7047,     0.70571,     0.70671,     0.70771,     0.70871,     0.70971,     0.71071,     0.71171,     0.71271,     0.71371,     0.71471,     0.71572,     0.71672,     0.71772,     0.71872,     0.71972,\n",
       "           0.72072,     0.72172,     0.72272,     0.72372,     0.72472,     0.72573,     0.72673,     0.72773,     0.72873,     0.72973,     0.73073,     0.73173,     0.73273,     0.73373,     0.73473,     0.73574,     0.73674,     0.73774,     0.73874,     0.73974,     0.74074,     0.74174,     0.74274,     0.74374,\n",
       "           0.74474,     0.74575,     0.74675,     0.74775,     0.74875,     0.74975,     0.75075,     0.75175,     0.75275,     0.75375,     0.75475,     0.75576,     0.75676,     0.75776,     0.75876,     0.75976,     0.76076,     0.76176,     0.76276,     0.76376,     0.76476,     0.76577,     0.76677,     0.76777,\n",
       "           0.76877,     0.76977,     0.77077,     0.77177,     0.77277,     0.77377,     0.77477,     0.77578,     0.77678,     0.77778,     0.77878,     0.77978,     0.78078,     0.78178,     0.78278,     0.78378,     0.78478,     0.78579,     0.78679,     0.78779,     0.78879,     0.78979,     0.79079,     0.79179,\n",
       "           0.79279,     0.79379,     0.79479,      0.7958,      0.7968,      0.7978,      0.7988,      0.7998,      0.8008,      0.8018,      0.8028,      0.8038,      0.8048,     0.80581,     0.80681,     0.80781,     0.80881,     0.80981,     0.81081,     0.81181,     0.81281,     0.81381,     0.81481,     0.81582,\n",
       "           0.81682,     0.81782,     0.81882,     0.81982,     0.82082,     0.82182,     0.82282,     0.82382,     0.82482,     0.82583,     0.82683,     0.82783,     0.82883,     0.82983,     0.83083,     0.83183,     0.83283,     0.83383,     0.83483,     0.83584,     0.83684,     0.83784,     0.83884,     0.83984,\n",
       "           0.84084,     0.84184,     0.84284,     0.84384,     0.84484,     0.84585,     0.84685,     0.84785,     0.84885,     0.84985,     0.85085,     0.85185,     0.85285,     0.85385,     0.85485,     0.85586,     0.85686,     0.85786,     0.85886,     0.85986,     0.86086,     0.86186,     0.86286,     0.86386,\n",
       "           0.86486,     0.86587,     0.86687,     0.86787,     0.86887,     0.86987,     0.87087,     0.87187,     0.87287,     0.87387,     0.87487,     0.87588,     0.87688,     0.87788,     0.87888,     0.87988,     0.88088,     0.88188,     0.88288,     0.88388,     0.88488,     0.88589,     0.88689,     0.88789,\n",
       "           0.88889,     0.88989,     0.89089,     0.89189,     0.89289,     0.89389,     0.89489,      0.8959,      0.8969,      0.8979,      0.8989,      0.8999,      0.9009,      0.9019,      0.9029,      0.9039,      0.9049,     0.90591,     0.90691,     0.90791,     0.90891,     0.90991,     0.91091,     0.91191,\n",
       "           0.91291,     0.91391,     0.91491,     0.91592,     0.91692,     0.91792,     0.91892,     0.91992,     0.92092,     0.92192,     0.92292,     0.92392,     0.92492,     0.92593,     0.92693,     0.92793,     0.92893,     0.92993,     0.93093,     0.93193,     0.93293,     0.93393,     0.93493,     0.93594,\n",
       "           0.93694,     0.93794,     0.93894,     0.93994,     0.94094,     0.94194,     0.94294,     0.94394,     0.94494,     0.94595,     0.94695,     0.94795,     0.94895,     0.94995,     0.95095,     0.95195,     0.95295,     0.95395,     0.95495,     0.95596,     0.95696,     0.95796,     0.95896,     0.95996,\n",
       "           0.96096,     0.96196,     0.96296,     0.96396,     0.96496,     0.96597,     0.96697,     0.96797,     0.96897,     0.96997,     0.97097,     0.97197,     0.97297,     0.97397,     0.97497,     0.97598,     0.97698,     0.97798,     0.97898,     0.97998,     0.98098,     0.98198,     0.98298,     0.98398,\n",
       "           0.98498,     0.98599,     0.98699,     0.98799,     0.98899,     0.98999,     0.99099,     0.99199,     0.99299,     0.99399,     0.99499,       0.996,       0.997,       0.998,       0.999,           1]), array([[     0.3913,      0.3913,      0.3913,      0.3913,      0.3913,      0.3913,      0.3913,      0.3913,      0.3913,      0.3913,      0.3913,      0.3913,      0.3913,      0.3913,      0.3913,      0.3913,      0.3913,      0.3913,      0.3913,      0.3913,      0.3913,      0.3913,      0.3913,\n",
       "             0.3913,      0.3913,      0.3913,      0.3913,      0.3913,      0.3913,      0.3913,      0.3913,      0.3913,      0.3913,      0.3913,      0.3913,      0.3913,      0.3913,      0.3913,      0.3913,      0.3913,      0.3913,      0.3913,      0.3913,      0.3913,      0.3913,      0.3913,\n",
       "             0.3913,      0.3913,      0.3913,      0.3913,      0.3913,      0.3913,      0.3913,      0.3913,      0.3913,      0.3913,      0.3913,      0.3913,      0.3913,      0.3913,      0.3913,      0.3913,      0.3913,      0.3913,      0.3913,      0.3913,      0.3913,      0.3913,      0.3913,\n",
       "             0.3913,      0.3913,      0.3913,      0.3913,      0.3913,      0.3913,      0.3913,      0.3913,      0.3913,      0.3913,      0.3913,      0.3913,      0.3913,      0.3913,      0.3913,      0.3913,      0.3913,      0.3913,      0.3913,      0.3913,      0.3913,      0.3913,      0.3913,\n",
       "             0.3913,      0.3913,      0.3913,      0.3913,      0.3913,      0.3913,      0.3913,      0.3913,      0.3913,      0.3913,      0.3913,      0.3913,      0.3913,      0.3913,      0.3913,      0.3913,      0.3913,      0.3913,      0.3913,      0.3913,      0.3913,      0.3913,      0.3913,\n",
       "             0.3913,      0.3913,      0.3913,      0.3913,      0.3913,      0.3913,      0.3913,      0.3913,      0.3913,      0.3913,      0.3913,      0.3913,      0.3913,      0.3913,      0.3913,      0.3913,      0.3913,      0.3913,      0.3913,      0.3913,      0.3913,      0.3913,      0.3913,\n",
       "             0.3913,      0.3913,      0.3913,      0.3913,      0.3913,      0.3913,      0.3913,      0.3913,      0.3913,      0.3913,      0.3913,      0.3913,      0.3913,      0.3913,      0.3913,      0.3913,      0.3913,      0.3913,      0.3913,     0.39016,     0.38637,     0.38257,     0.38043,\n",
       "            0.38043,     0.38043,     0.38043,     0.36957,     0.36957,     0.36957,     0.36957,     0.36957,     0.36957,     0.36957,     0.36957,     0.36957,     0.36957,     0.36705,      0.3587,      0.3587,     0.35291,     0.34783,     0.34783,     0.34783,     0.34783,     0.34783,     0.34783,\n",
       "            0.34783,     0.34783,     0.34783,     0.34766,     0.34651,     0.34535,      0.3442,     0.34304,     0.34189,     0.34073,     0.33957,     0.33842,     0.33726,     0.33571,     0.33402,     0.33232,     0.33063,     0.32893,     0.32724,     0.32609,     0.32609,     0.32609,     0.32609,\n",
       "            0.32609,     0.32609,     0.32609,     0.32609,     0.32609,     0.32609,     0.32609,     0.32609,     0.32609,     0.32609,     0.32609,     0.32609,     0.32609,     0.32609,     0.32609,     0.32609,     0.32609,     0.32609,     0.32609,     0.32609,     0.32609,     0.32609,     0.32609,\n",
       "            0.32609,     0.32584,     0.32412,      0.3224,     0.32067,     0.31895,     0.31722,      0.3155,     0.31522,     0.31522,     0.31522,     0.31522,     0.31522,     0.31522,     0.31522,     0.31189,      0.3083,     0.30472,     0.30435,     0.30435,     0.30435,     0.30435,     0.30435,\n",
       "            0.30435,     0.30435,     0.30435,     0.30435,     0.30435,     0.30435,     0.30435,     0.30435,     0.30435,     0.30435,     0.30435,     0.30435,     0.30435,     0.30351,     0.29996,     0.29641,     0.29311,     0.29102,     0.28893,     0.28684,     0.28475,     0.28266,     0.27174,\n",
       "            0.27174,     0.27174,     0.27174,     0.27075,     0.26932,     0.26789,     0.26646,     0.26503,     0.26361,     0.26218,     0.26087,     0.26087,     0.26087,     0.26087,     0.26087,     0.26087,     0.26087,     0.26087,     0.26087,     0.26087,     0.26053,     0.25885,     0.25718,\n",
       "            0.25551,     0.25383,     0.25216,     0.25048,        0.25,        0.25,        0.25,     0.24943,     0.24771,       0.246,     0.24428,     0.24257,     0.24086,     0.23914,     0.23805,     0.23697,     0.23589,     0.23481,     0.23372,     0.23264,     0.23156,     0.23048,     0.22939,\n",
       "            0.22831,     0.22636,     0.22437,     0.22238,     0.22039,      0.2184,     0.21649,     0.21466,     0.21282,     0.21099,     0.20916,     0.20732,     0.20581,     0.20454,     0.20327,     0.20199,     0.20072,     0.19945,     0.19818,     0.19691,     0.19565,     0.19565,     0.19565,\n",
       "            0.19565,     0.19565,     0.19565,     0.19565,     0.19565,     0.19213,     0.18808,     0.18478,     0.18185,      0.1787,     0.17555,     0.17391,     0.17391,     0.17391,     0.17391,     0.17391,     0.17391,     0.17391,     0.17391,     0.17391,     0.17391,     0.17391,     0.17391,\n",
       "            0.17391,     0.17391,     0.17391,     0.17391,     0.17292,     0.17064,     0.16836,     0.16608,      0.1638,     0.16304,     0.16304,     0.16304,     0.16304,     0.16304,     0.16304,     0.16304,     0.16091,     0.15871,     0.15651,     0.15431,     0.15217,     0.15217,     0.15217,\n",
       "            0.15217,     0.15217,     0.15151,     0.15028,     0.14904,      0.1478,     0.14656,     0.14532,     0.14408,     0.14284,      0.1416,     0.12975,     0.12722,     0.12469,     0.12216,     0.11964,     0.11957,     0.11957,     0.11957,     0.11957,     0.11957,     0.11957,     0.11957,\n",
       "            0.11957,     0.11957,     0.11957,     0.11957,     0.11957,     0.11957,     0.11957,     0.11957,     0.11957,     0.11957,     0.11957,     0.11957,     0.11957,     0.11957,     0.11957,     0.11957,     0.11923,     0.11871,      0.1182,     0.11768,     0.11716,     0.11665,     0.11613,\n",
       "            0.11561,      0.1151,     0.11458,     0.11406,     0.11355,     0.11303,     0.11251,       0.112,     0.11148,     0.11096,     0.11045,     0.10993,     0.10942,      0.1089,     0.10743,     0.10535,     0.10326,     0.10118,    0.099091,    0.095242,    0.088676,    0.086549,    0.085998,\n",
       "           0.085446,    0.084895,    0.084343,    0.083791,     0.08324,    0.082688,    0.082137,    0.081585,    0.081033,    0.080482,     0.07993,    0.079378,    0.078827,    0.078275,    0.077724,    0.077172,     0.07662,    0.076057,    0.075145,    0.074234,    0.073322,     0.07241,    0.071499,\n",
       "           0.070587,    0.069675,    0.068764,    0.067852,     0.06694,    0.066029,     0.06518,    0.064839,    0.064499,    0.064159,    0.063818,    0.063478,    0.063137,    0.062797,    0.062456,    0.062116,    0.061775,    0.061435,    0.061094,    0.060754,    0.060413,    0.060073,    0.059732,\n",
       "           0.059392,    0.059051,    0.058711,     0.05837,     0.05803,    0.057689,    0.057349,    0.057008,    0.056668,    0.056327,    0.055987,    0.055646,    0.055306,    0.054965,    0.054625,    0.053946,    0.051791,    0.049636,    0.047481,    0.045325,    0.043336,    0.042339,    0.041341,\n",
       "           0.040344,    0.039347,     0.03835,    0.037353,    0.036356,    0.035358,    0.034361,    0.033364,    0.032429,     0.03169,    0.030951,    0.030212,    0.029473,    0.028734,    0.027995,    0.027256,    0.026517,    0.025778,    0.025039,      0.0243,    0.023561,    0.022822,    0.022083,\n",
       "           0.021565,     0.02124,    0.020914,    0.020588,    0.020263,    0.019937,    0.019612,    0.019286,    0.018961,    0.018635,    0.018309,    0.017984,    0.017658,    0.017333,    0.017007,    0.016682,    0.016356,     0.01603,    0.015705,    0.015379,    0.015054,    0.014728,    0.014403,\n",
       "           0.014077,    0.013751,    0.013426,      0.0131,    0.012775,    0.012449,    0.012123,    0.011798,    0.011472,    0.011147,           0,           0,           0,           0,           0,           0,           0,           0,           0,           0,           0,           0,           0,\n",
       "                  0,           0,           0,           0,           0,           0,           0,           0,           0,           0,           0,           0,           0,           0,           0,           0,           0,           0,           0,           0,           0,           0,           0,\n",
       "                  0,           0,           0,           0,           0,           0,           0,           0,           0,           0,           0,           0,           0,           0,           0,           0,           0,           0,           0,           0,           0,           0,           0,\n",
       "                  0,           0,           0,           0,           0,           0,           0,           0,           0,           0,           0,           0,           0,           0,           0,           0,           0,           0,           0,           0,           0,           0,           0,\n",
       "                  0,           0,           0,           0,           0,           0,           0,           0,           0,           0,           0,           0,           0,           0,           0,           0,           0,           0,           0,           0,           0,           0,           0,\n",
       "                  0,           0,           0,           0,           0,           0,           0,           0,           0,           0,           0,           0,           0,           0,           0,           0,           0,           0,           0,           0,           0,           0,           0,\n",
       "                  0,           0,           0,           0,           0,           0,           0,           0,           0,           0,           0,           0,           0,           0,           0,           0,           0,           0,           0,           0,           0,           0,           0,\n",
       "                  0,           0,           0,           0,           0,           0,           0,           0,           0,           0,           0,           0,           0,           0,           0,           0,           0,           0,           0,           0,           0,           0,           0,\n",
       "                  0,           0,           0,           0,           0,           0,           0,           0,           0,           0,           0,           0,           0,           0,           0,           0,           0,           0,           0,           0,           0,           0,           0,\n",
       "                  0,           0,           0,           0,           0,           0,           0,           0,           0,           0,           0,           0,           0,           0,           0,           0,           0,           0,           0,           0,           0,           0,           0,\n",
       "                  0,           0,           0,           0,           0,           0,           0,           0,           0,           0,           0,           0,           0,           0,           0,           0,           0,           0,           0,           0,           0,           0,           0,\n",
       "                  0,           0,           0,           0,           0,           0,           0,           0,           0,           0,           0,           0,           0,           0,           0,           0,           0,           0,           0,           0,           0,           0,           0,\n",
       "                  0,           0,           0,           0,           0,           0,           0,           0,           0,           0,           0,           0,           0,           0,           0,           0,           0,           0,           0,           0,           0,           0,           0,\n",
       "                  0,           0,           0,           0,           0,           0,           0,           0,           0,           0,           0,           0,           0,           0,           0,           0,           0,           0,           0,           0,           0,           0,           0,\n",
       "                  0,           0,           0,           0,           0,           0,           0,           0,           0,           0,           0,           0,           0,           0,           0,           0,           0,           0,           0,           0,           0,           0,           0,\n",
       "                  0,           0,           0,           0,           0,           0,           0,           0,           0,           0,           0,           0,           0,           0,           0,           0,           0,           0,           0,           0,           0,           0,           0,\n",
       "                  0,           0,           0,           0,           0,           0,           0,           0,           0,           0,           0,           0,           0,           0,           0,           0,           0,           0,           0,           0,           0,           0,           0,\n",
       "                  0,           0,           0,           0,           0,           0,           0,           0,           0,           0,           0,           0,           0,           0,           0,           0,           0,           0,           0,           0,           0,           0,           0,\n",
       "                  0,           0,           0,           0,           0,           0,           0,           0,           0,           0,           0]]), 'Confidence', 'Recall']]\n",
       "fitness: np.float64(0.2358266899079693)\n",
       "keys: ['metrics/precision(B)', 'metrics/recall(B)', 'metrics/mAP50(B)', 'metrics/mAP50-95(B)']\n",
       "maps: array([    0.21299])\n",
       "names: {0: 'fracture'}\n",
       "plot: True\n",
       "results_dict: {'metrics/precision(B)': np.float64(0.568079888898946), 'metrics/recall(B)': np.float64(0.32608695652173914), 'metrics/mAP50(B)': np.float64(0.44137208110527665), 'metrics/mAP50-95(B)': np.float64(0.21298831310826843), 'fitness': np.float64(0.2358266899079693)}\n",
       "save_dir: PosixPath('runs/detect/train8')\n",
       "speed: {'preprocess': 0.3778212383116778, 'inference': 7.725044665222632, 'loss': 1.1682840845277233e-05, 'postprocess': 0.873510854055287}\n",
       "task: 'detect'"
      ]
     },
     "execution_count": 2,
     "metadata": {},
     "output_type": "execute_result"
    }
   ],
   "execution_count": 2
  },
  {
   "metadata": {},
   "cell_type": "code",
   "outputs": [],
   "execution_count": null,
   "source": "",
   "id": "5d8cb6b70e6f7443"
  }
 ],
 "metadata": {
  "kernelspec": {
   "display_name": "Python 3",
   "language": "python",
   "name": "python3"
  },
  "language_info": {
   "codemirror_mode": {
    "name": "ipython",
    "version": 2
   },
   "file_extension": ".py",
   "mimetype": "text/x-python",
   "name": "python",
   "nbconvert_exporter": "python",
   "pygments_lexer": "ipython2",
   "version": "2.7.6"
  }
 },
 "nbformat": 4,
 "nbformat_minor": 5
}
